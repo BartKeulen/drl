{
 "cells": [
  {
   "cell_type": "markdown",
   "metadata": {},
   "source": [
    "# iLQG algorithm with inverted Pendulum"
   ]
  },
  {
   "cell_type": "markdown",
   "metadata": {},
   "source": [
    "## Initialize variables"
   ]
  },
  {
   "cell_type": "code",
   "execution_count": 42,
   "metadata": {
    "collapsed": true
   },
   "outputs": [],
   "source": [
    "import numpy as np\n",
    "from drl.ilqg import Pendulum"
   ]
  },
  {
   "cell_type": "code",
   "execution_count": 43,
   "metadata": {
    "collapsed": false
   },
   "outputs": [],
   "source": [
    "env = Pendulum()\n",
    "\n",
    "render_env = True\n",
    "\n",
    "T = 200\n",
    "dt = 0.05\n",
    "state_dim = 2\n",
    "action_dim = 1\n",
    "\n",
    "epsilon = 1e-8\n",
    "lamb = 1.0\n",
    "lamb_factor = 10\n",
    "lamb_max = 1000\n",
    "eps_converge = 1e-3"
   ]
  },
  {
   "cell_type": "markdown",
   "metadata": {},
   "source": [
    "## Helper functions\n",
    "Define functions for calculating temporal difference derivative and losses.\n",
    "\n",
    "### Only valid for pendulum environment!"
   ]
  },
  {
   "cell_type": "code",
   "execution_count": 44,
   "metadata": {
    "collapsed": false
   },
   "outputs": [],
   "source": [
    "def dynamics(x, u):\n",
    "    th, thdot = x\n",
    "\n",
    "    g = 10.\n",
    "    m = 1.\n",
    "    l = 1.\n",
    "    dt = 0.05\n",
    "    max_torque = 8.\n",
    "    max_speed = 2.\n",
    "        \n",
    "    u = np.clip(u, -max_torque, max_torque)[0]\n",
    "\n",
    "    newthdot = thdot + (-3 * g / (2 * l) * np.sin(th + np.pi) + 3. / (m * l ** 2) * u) * dt\n",
    "    newth = th + newthdot * dt\n",
    "    newthdot = np.clip(newthdot, -max_speed, max_speed)\n",
    "\n",
    "    return np.array([newth, newthdot])"
   ]
  },
  {
   "cell_type": "code",
   "execution_count": 45,
   "metadata": {
    "collapsed": true
   },
   "outputs": [],
   "source": [
    "def dynamics_derivatives(t, epsilon):\n",
    "    x, u = t\n",
    "\n",
    "    dfdx = []\n",
    "    for i in range(len(x)):\n",
    "        x_plus = np.copy(x)\n",
    "        x_plus[i] += epsilon\n",
    "        x_min = np.copy(x)\n",
    "        x_min[i] -= epsilon\n",
    "        dfdx.append((dynamics(x_plus, u) - dynamics(x_min, u)) / (2. * epsilon))\n",
    "\n",
    "    dfdu = []\n",
    "    for i in range(len(u)):\n",
    "        u_plus = np.copy(u)\n",
    "        u_plus[i] += epsilon\n",
    "        u_min = np.copy(u)\n",
    "        u_min[i] -= epsilon\n",
    "        dfdu.append((dynamics(x, u_plus) - dynamics(x, u_min)) / (2. * epsilon))\n",
    "        \n",
    "    return np.stack(dfdx, axis=1), np.stack(dfdu, axis=1)"
   ]
  },
  {
   "cell_type": "code",
   "execution_count": 46,
   "metadata": {
    "collapsed": true
   },
   "outputs": [],
   "source": [
    "def calc_cost(t):\n",
    "    x, u = t\n",
    "    l = 0.01 * u**2\n",
    "    lx = np.zeros([2, 1])\n",
    "    lu = 0.02 * u\n",
    "    lxx = np.zeros([2, 2])\n",
    "    luu = 0.02\n",
    "    lux = np.zeros(2)\n",
    "    return l, lx, lu, lxx, luu, lux\n",
    "\n",
    "def calc_final_cost(t):\n",
    "    x, u = t\n",
    "    l = (1 - np.cos(x[0]))**2 + 0.1 * x[1]**2 + 0.01 * u**2\n",
    "    lx = np.array([2.*(1. - np.cos(x[0]))*np.sin(x[0]), 0.2*x[1]]).reshape([2, 1])\n",
    "    lu = 0.02 * u\n",
    "    lxx = np.array([4.*np.sin(x[0]/2.)**2 * (2*np.cos(x[0]) + 1), 0., 0., 0.2]).reshape([2, 2])\n",
    "    luu = 0.02\n",
    "    lux = 0.\n",
    "    return l, lx, lu, lxx, luu, lux"
   ]
  },
  {
   "cell_type": "markdown",
   "metadata": {},
   "source": [
    "## Forward pass\n",
    "Execute control sequence pi. Calculate dynamics derivatives and loss (derivatives for every step). Return derivatives and total loss."
   ]
  },
  {
   "cell_type": "code",
   "execution_count": 47,
   "metadata": {
    "collapsed": false
   },
   "outputs": [],
   "source": [
    "def forward_pass(pi):    \n",
    "    trajectory = []\n",
    "    derivatives = []\n",
    "    cost = 0.\n",
    "    \n",
    "    x = env.reset()\n",
    "    \n",
    "    # Execute all steps except for final step\n",
    "    for i in range(T-1):\n",
    "        if render_env:\n",
    "            env.render()\n",
    "\n",
    "        u = pi[i]\n",
    "                \n",
    "        # Calculate dyanmics derivatives and loss (derivatives)\n",
    "        seq = (x, u)\n",
    "        dfdx, dfdu = dynamics_derivatives(seq, epsilon)\n",
    "        l, lx, lu, lxx, luu, lux = calc_cost(seq)\n",
    "        \n",
    "        cost += l\n",
    "        \n",
    "        # Store values\n",
    "        derivatives.append((np.eye(state_dim) + dfdx*dt, dfdu*dt, lx*dt, lu*dt, lxx*dt, luu*dt, lux*dt))\n",
    "        trajectory.append(x)\n",
    "        \n",
    "        # Execute action\n",
    "        x = env.step(u)\n",
    "        \n",
    "    if render_env:\n",
    "        env.render(close=True)\n",
    "        \n",
    "    # Add final time step\n",
    "    seq = (x, np.zeros(1))\n",
    "    \n",
    "    dfdx, dfdu = dynamics_derivatives(seq, epsilon)\n",
    "    l, lx, lu, lxx, luu, lux = calc_final_cost(seq)\n",
    "        \n",
    "    cost += l\n",
    "    \n",
    "    derivatives.append((np.eye(state_dim) + dfdx*dt, dfdu*dt, lx*dt, lu*dt, lxx*dt, luu*dt, lux*dt))\n",
    "    trajectory.append(x)\n",
    "    \n",
    "    return trajectory, derivatives, cost"
   ]
  },
  {
   "cell_type": "markdown",
   "metadata": {},
   "source": [
    "Test forward pass with random control sequence for T steps, print first 10 samples of trajectory to check if values are correct."
   ]
  },
  {
   "cell_type": "code",
   "execution_count": 48,
   "metadata": {
    "collapsed": false,
    "scrolled": true
   },
   "outputs": [
    {
     "name": "stdout",
     "output_type": "stream",
     "text": [
      "Trajectory:  [array([ 0.,  0.]), array([-0.00468684, -0.09373674]), array([ 0.00545057,  0.20274814]), array([ 0.01195949,  0.13017838]), array([ 0.02580629,  0.27693598])]\n",
      "Derivatives:  [(array([[ 1.051875,  0.0025  ],\n",
      "       [ 0.0375  ,  1.05    ]]), array([[ 0.000375],\n",
      "       [ 0.0075  ]]), array([[ 0.],\n",
      "       [ 0.]]), array([-0.00062491]), array([[ 0.,  0.],\n",
      "       [ 0.,  0.]]), 0.001, array([ 0.,  0.])), (array([[ 1.05187498,  0.0025    ],\n",
      "       [ 0.03749959,  1.05      ]]), array([[ 0.000375],\n",
      "       [ 0.0075  ]]), array([[ 0.],\n",
      "       [ 0.]]), array([ 0.0024851]), array([[ 0.,  0.],\n",
      "       [ 0.,  0.]]), 0.001, array([ 0.,  0.]))]\n",
      "Cost:  [ 2.6043404]\n"
     ]
    }
   ],
   "source": [
    "pi = np.random.randn(T, 1)\n",
    "trajectory, derivatives, cost = forward_pass(pi)\n",
    "\n",
    "print 'Trajectory: ', trajectory[:5]\n",
    "print 'Derivatives: ', derivatives[:2]\n",
    "print 'Cost: ', cost"
   ]
  },
  {
   "cell_type": "markdown",
   "metadata": {},
   "source": [
    "## Backward pass\n",
    "\n",
    "For final timestep $T$\n",
    "\n",
    "$V(x,T) = l_f(x_T)$\n",
    "\n",
    "Now iterate backwards from timestep $t = T$ to $t = 0$. Calculate $Q$-values using:\n",
    "\n",
    "$Q_x = l_x + f_x^TV'_x\\\\\n",
    "Q_u = l_u + f_u^TV'_x\\\\\n",
    "Q_{xx} = l_{xx} + f_x^TV'_{xx}f_x\\\\\n",
    "Q_{uu} = l_{uu} + f_u^TV'_{xx}f_u\\\\\n",
    "Q_{ux} = l_{ux} + f_u^TV'_{xx}f_x$\n",
    "\n",
    "From the $Q$-values we can derive the $V$-values and control modifications $K$, $k$\n",
    "\n",
    "$K = -Q_{uu}^{-1}Q_{ux}\\\\\n",
    "k = -Q_{uu}^{-1}Q_{u}$\n",
    "\n",
    "$V_x = Q_x - K^TQ_{uu}k\\\\\n",
    "V_{xx} = Q_{xx} - K^TQ_{uu}K$\n",
    "\n",
    "\n",
    "Derivative sequence is $(f_x, f_u, l_x, l_u, l_{xx}, l_{uu}, l_{ux})$"
   ]
  },
  {
   "cell_type": "code",
   "execution_count": 85,
   "metadata": {
    "collapsed": false
   },
   "outputs": [],
   "source": [
    "def backward_pass(derivatives, lamb):\n",
    "    K = []\n",
    "    k = []\n",
    "    \n",
    "    Vx = derivatives[T-1][2]\n",
    "    Vxx = derivatives[T-1][4]\n",
    "    \n",
    "    for i in reversed(range(T-1)):\n",
    "        der = derivatives[i]\n",
    "        Qx = der[2] + np.dot(der[0].T, Vx)        \n",
    "        Qu = der[3] + np.dot(der[1].T, Vx)\n",
    "        Qxx = der[4] + np.dot(der[0].T, np.dot(Vxx, der[0]))\n",
    "        Quu = der[5] + np.dot(der[1].T, np.dot(Vxx, der[1]))\n",
    "        Qux = der[6] + np.dot(der[1].T, np.dot(Vxx ,der[0]))\n",
    "        \n",
    "        U, S, V = np.linalg.svd(Quu)\n",
    "        S[S < 0] = 0.0\n",
    "        S += lamb\n",
    "        Quu_inv = np.dot(U, np.dot(np.diag(1.0/S), V.T))\n",
    "        \n",
    "        Ks = -Quu_inv * Qux\n",
    "        ks = -Quu_inv * Qu\n",
    "        \n",
    "        Vx = Qx - np.dot(Ks.T, np.dot(Quu, ks))\n",
    "        Vxx = Qxx - np.dot(Ks.T, np.dot(Quu, Ks))\n",
    "        \n",
    "        K.append(Ks)\n",
    "        k.append(ks)\n",
    "    \n",
    "    return K[::-1], k[::-1]"
   ]
  },
  {
   "cell_type": "markdown",
   "metadata": {},
   "source": [
    "Test backward pass with previous results from forward pass"
   ]
  },
  {
   "cell_type": "code",
   "execution_count": 86,
   "metadata": {
    "collapsed": false,
    "scrolled": true
   },
   "outputs": [
    {
     "name": "stdout",
     "output_type": "stream",
     "text": [
      "K:  [array([[-365.72007717,  -33.29909424]]), array([[-372.31982992,  -33.18221069]]), array([[-379.36167577,  -33.07242252]])]\n",
      "k:  [array([[ 0.01440818]]), array([[ 0.01323244]]), array([[ 0.01630468]])]\n"
     ]
    }
   ],
   "source": [
    "K, k = backward_pass(derivatives, lamb)\n",
    "\n",
    "print 'K: ', K[:3]\n",
    "print 'k: ', k[:3]"
   ]
  },
  {
   "cell_type": "markdown",
   "metadata": {},
   "source": [
    "## Create new control signals"
   ]
  },
  {
   "cell_type": "code",
   "execution_count": 87,
   "metadata": {
    "collapsed": true
   },
   "outputs": [],
   "source": [
    "def update_control_signal(pi, trajectory, K, k):\n",
    "    pi_new = np.zeros(pi.shape)\n",
    "    x = trajectory[0][0].copy()\n",
    "    for i in range(T - 1):\n",
    "        u = pi[i] + k[i] + np.dot(K[i], trajectory[i])\n",
    "        pi_new[i] = u[0]\n",
    "    return pi_new"
   ]
  },
  {
   "cell_type": "code",
   "execution_count": 88,
   "metadata": {
    "collapsed": false
   },
   "outputs": [
    {
     "name": "stdout",
     "output_type": "stream",
     "text": [
      "[[ -7.07441746e-05  -1.06215566e-04]]\n",
      "[ 11.09571463   2.34027688]\n",
      "[-0.00103353]\n"
     ]
    }
   ],
   "source": [
    "print K[T-5]\n",
    "print trajectory[T-5]\n",
    "print np.dot(K[T-5], trajectory[T-5])"
   ]
  },
  {
   "cell_type": "code",
   "execution_count": null,
   "metadata": {
    "collapsed": false
   },
   "outputs": [
    {
     "data": {
      "text/plain": [
       "<matplotlib.legend.Legend at 0x7f8121ee9590>"
      ]
     },
     "execution_count": 89,
     "metadata": {},
     "output_type": "execute_result"
    },
    {
     "data": {
      "image/png": "[encoded data removed]",
      "text/plain": [
       "<matplotlib.figure.Figure at 0x7f8126457c50>"
      ]
     },
     "metadata": {},
     "output_type": "display_data"
    }
   ],
   "source": [
    "pi_new = update_control_signal(pi, trajectory, K, k)\n",
    "\n",
    "%matplotlib inline\n",
    "import matplotlib.pyplot as plt\n",
    "\n",
    "t = np.linspace(0, T, T)\n",
    "plt.plot(t, pi)\n",
    "plt.plot(t, pi_new)\n",
    "plt.title('Control signals')\n",
    "plt.legend(['pi_old', 'pi_new'])"
   ]
  },
  {
   "cell_type": "markdown",
   "metadata": {},
   "source": [
    "## Full loop"
   ]
  },
  {
   "cell_type": "code",
   "execution_count": null,
   "metadata": {
    "collapsed": false,
    "scrolled": false
   },
   "outputs": [],
   "source": [
    "converged = False\n",
    "new_simulation = True\n",
    "\n",
    "pi = np.random.randn(T, 1)\n",
    "\n",
    "while not converged:\n",
    "    if new_simulation:\n",
    "        trajectory, derivatives, cost = forward_pass(pi)\n",
    "        new_simulation = False\n",
    "    \n",
    "    K, k = backward_pass(derivatives, lamb)\n",
    "    \n",
    "    pi_new = update_control_signal(pi, trajectory, K, k)\n",
    "    \n",
    "    new_trajectory, new_derivatives, new_cost = forward_pass(pi_new)\n",
    "\n",
    "    if new_cost < cost:\n",
    "        lamb /= lamb_factor\n",
    "    \n",
    "        pi = pi_new\n",
    "        trajectory = new_trajectory\n",
    "        cost = new_cost\n",
    "        \n",
    "        new_simulation = True\n",
    "        \n",
    "        if (np.abs(cost - new_cost)/cost) < eps_converge:\n",
    "            break\n",
    "    else:\n",
    "        lamb *= lamb_factor\n",
    "        \n",
    "        if lamb > lamb_max:\n",
    "            print 'lamb > lamb_max. Dit not converge!'\n",
    "            break;"
   ]
  }
 ],
 "metadata": {
  "kernelspec": {
   "display_name": "Python 2",
   "language": "python",
   "name": "python2"
  },
  "language_info": {
   "codemirror_mode": {
    "name": "ipython",
    "version": 2
   },
   "file_extension": ".py",
   "mimetype": "text/x-python",
   "name": "python",
   "nbconvert_exporter": "python",
   "pygments_lexer": "ipython2",
   "version": "2.7.13"
  }
 },
 "nbformat": 4,
 "nbformat_minor": 2
}
