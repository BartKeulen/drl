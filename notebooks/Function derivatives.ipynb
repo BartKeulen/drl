{
 "cells": [
  {
   "cell_type": "code",
   "execution_count": 1,
   "metadata": {
    "collapsed": true
   },
   "outputs": [],
   "source": [
    "import numpy as np\n",
    "\n",
    "from drl.utilities import function_derivatives, finite_difference\n",
    "from drl.trajopt.trajoptilqg import func_serializer"
   ]
  },
  {
   "cell_type": "code",
   "execution_count": 2,
   "metadata": {
    "collapsed": false
   },
   "outputs": [],
   "source": [
    "def func(x, u):\n",
    "    return 5*np.linalg.norm(x) + np.linalg.norm(u) + np.dot(x, u)\n",
    "\n",
    "def func_der(x, u):\n",
    "    f = func(x, u)\n",
    "    fx = 2*5*x + u\n",
    "    fu = 2*u + x\n",
    "    return f, fx, fu\n",
    "\n",
    "def func_der2(x, u):\n",
    "    f, fx, fu = func_der(x, u)\n",
    "    fxx = np.eye(2)*10\n",
    "    fuu = np.eye(2)*2\n",
    "    fux = np.eye(2)\n",
    "    return f, fx, fu, fxx, fuu, fux"
   ]
  },
  {
   "cell_type": "code",
   "execution_count": 5,
   "metadata": {
    "collapsed": false
   },
   "outputs": [
    {
     "name": "stdout",
     "output_type": "stream",
     "text": [
      "<class 'tuple'>\n",
      "<class 'tuple'>\n",
      "<class 'tuple'>\n",
      "<class 'tuple'>\n",
      "<class 'tuple'>\n",
      "<class 'tuple'>\n",
      "<class 'tuple'>\n",
      "<class 'tuple'>\n",
      "<class 'tuple'>\n",
      "<class 'tuple'>\n",
      "x  :  [-0.75051902 -1.81801569]\n",
      "u  :  [ 1.20497295  0.31920433]\n",
      "f  :  9.59606242321\n",
      "fx :  [ -6.30021724 -17.86095257]\n",
      "fu :  [ 1.65942688 -1.17960703]\n",
      "fxx:  [[ 10.   0.]\n",
      " [  0.  10.]]\n",
      "fuu:  [[ 2.  0.]\n",
      " [ 0.  2.]]\n",
      "fux:  [[ 1.  0.]\n",
      " [ 0.  1.]]\n"
     ]
    }
   ],
   "source": [
    "x = np.random.randn(10, 2)\n",
    "u = np.random.randn(10, 2)\n",
    "\n",
    "f, fx, fu, fxx, fuu, fux = func_serializer(x, u, func_der2)\n",
    "print(\"x  : \", x[1])\n",
    "print(\"u  : \", u[1])\n",
    "print(\"f  : \", f[1])\n",
    "print(\"fx : \", fx[1])\n",
    "print(\"fu : \", fu[1])\n",
    "print(\"fxx: \", fxx[1])\n",
    "print(\"fuu: \", fuu[1])\n",
    "print(\"fux: \", fux[1])"
   ]
  },
  {
   "cell_type": "code",
   "execution_count": null,
   "metadata": {
    "collapsed": true
   },
   "outputs": [],
   "source": []
  }
 ],
 "metadata": {
  "anaconda-cloud": {},
  "kernelspec": {
   "display_name": "Python [conda env:drl]",
   "language": "python",
   "name": "conda-env-drl-py"
  },
  "language_info": {
   "codemirror_mode": {
    "name": "ipython",
    "version": 3
   },
   "file_extension": ".py",
   "mimetype": "text/x-python",
   "name": "python",
   "nbconvert_exporter": "python",
   "pygments_lexer": "ipython3",
   "version": "3.5.2"
  }
 },
 "nbformat": 4,
 "nbformat_minor": 2
}
