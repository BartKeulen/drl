{
 "cells": [
  {
   "cell_type": "markdown",
   "metadata": {},
   "source": [
    "### TODO:\n",
    "* Extend replaybuffer to also save trajectory\n",
    "* Choose exploration point based on replaybuffer composition\n",
    "* 2 choices:\n",
    "    * Use trajectory as initialization for iLQG algorithm\n",
    "    * Only give goal point to iLQG algorithm\n",
    "* Guide to goal for max_iter or goal reached"
   ]
  }
 ],
 "metadata": {
  "kernelspec": {
   "display_name": "Environment (conda_drl)",
   "language": "python",
   "name": "conda_drl"
  },
  "language_info": {
   "codemirror_mode": {
    "name": "ipython",
    "version": 3
   },
   "file_extension": ".py",
   "mimetype": "text/x-python",
   "name": "python",
   "nbconvert_exporter": "python",
   "pygments_lexer": "ipython3",
   "version": "3.5.3"
  }
 },
 "nbformat": 4,
 "nbformat_minor": 2
}
