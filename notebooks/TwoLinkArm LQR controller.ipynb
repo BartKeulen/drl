{
 "cells": [
  {
   "cell_type": "code",
   "execution_count": 1,
   "metadata": {
    "collapsed": true
   },
   "outputs": [],
   "source": [
    "import numpy as np\n",
    "from scipy.linalg import *\n",
    "from drl.env import TwoLinkArm\n",
    "import time\n",
    "\n",
    "%matplotlib notebook"
   ]
  },
  {
   "cell_type": "code",
   "execution_count": 16,
   "metadata": {
    "collapsed": true
   },
   "outputs": [],
   "source": [
    "epsilon = 1e-5\n",
    "Ts = 10\n",
    "env = TwoLinkArm(g=0.)\n",
    "\n",
    "Q = np.eye(env.state_dim)*100.\n",
    "R = np.eye(env.action_dim)*0.1\n"
   ]
  },
  {
   "cell_type": "markdown",
   "metadata": {},
   "source": [
    "## Finite difference derivatives"
   ]
  },
  {
   "cell_type": "code",
   "execution_count": 3,
   "metadata": {
    "collapsed": true
   },
   "outputs": [],
   "source": [
    "def calc_derivatives(x, u):\n",
    "    A = np.zeros((env.state_dim, env.state_dim))\n",
    "    for i in range(env.state_dim):\n",
    "        x_tmp = x.copy()\n",
    "        x_tmp[i] += epsilon\n",
    "        f_1 = env.simulate_system(x_tmp, u)\n",
    "        x_tmp = x.copy()\n",
    "        x_tmp[i] -= epsilon\n",
    "        f_2 = env.simulate_system(x_tmp, u)\n",
    "        fxdx = (f_1 - f_2) / (2*epsilon)\n",
    "        A[:, i] = fxdx\n",
    "        \n",
    "    B = np.zeros((env.state_dim, env.action_dim))\n",
    "    for i in range(env.action_dim):\n",
    "        u_tmp = u.copy()\n",
    "        u_tmp[i] += epsilon\n",
    "        f1 = env.simulate_system(x, u_tmp)\n",
    "        u_tmp = u.copy()\n",
    "        u_tmp[i] -= epsilon\n",
    "        f2 = env.simulate_system(x, u_tmp)\n",
    "        fxdu = (f1 - f2) / (2*epsilon)\n",
    "        B[:, i] = fxdu\n",
    "        \n",
    "    return A, B"
   ]
  },
  {
   "cell_type": "code",
   "execution_count": 4,
   "metadata": {
    "collapsed": true
   },
   "outputs": [],
   "source": [
    "def run_experiment():\n",
    "    x = env.reset()\n",
    "    env.render()\n",
    "    u = [0.]*env.action_dim\n",
    "\n",
    "    for _ in range(int(Ts/env.dt)):\n",
    "        # Calculate optimal feedback gain K\n",
    "        error = x - np.pad(env.goal, (0, 2), 'constant')\n",
    "        A, B = calc_derivatives(error, u)\n",
    "\n",
    "        P = solve_continuous_are(A, B, Q, R)\n",
    "        K = np.dot(np.linalg.pinv(R), np.dot(B.T, P))\n",
    "\n",
    "        u = -np.dot(K, error)\n",
    "\n",
    "        x, _, _, _ = env.step(u)\n",
    "        env.render()\n",
    "        \n",
    "    return np.pad(env.goal, (0, 2), 'constant') - x"
   ]
  },
  {
   "cell_type": "code",
   "execution_count": null,
   "metadata": {},
   "outputs": [],
   "source": [
    "for i in range(5):\n",
    "    error = run_experiment()\n",
    "    print('Episode %s - Error: %s' % (str(i), error))"
   ]
  },
  {
   "cell_type": "code",
   "execution_count": 6,
   "metadata": {
    "collapsed": true
   },
   "outputs": [],
   "source": [
    "env.render(close=True)"
   ]
  }
 ],
 "metadata": {
  "kernelspec": {
   "display_name": "Environment (conda_drl)",
   "language": "python",
   "name": "conda_drl"
  },
  "language_info": {
   "codemirror_mode": {
    "name": "ipython",
    "version": 3
   },
   "file_extension": ".py",
   "mimetype": "text/x-python",
   "name": "python",
   "nbconvert_exporter": "python",
   "pygments_lexer": "ipython3",
   "version": "3.5.3"
  }
 },
 "nbformat": 4,
 "nbformat_minor": 2
}
