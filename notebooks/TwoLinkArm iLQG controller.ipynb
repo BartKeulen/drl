{
 "cells": [
  {
   "cell_type": "code",
   "execution_count": 1,
   "metadata": {
    "collapsed": true
   },
   "outputs": [],
   "source": [
    "import numpy as np\n",
    "from drl.ilqg import ilqg\n",
    "from drl.env.arm import TwoLinkArm\n",
    "\n",
    "env = TwoLinkArm(g=0.)\n",
    "\n",
    "dyn = lambda x, u: env.dynamics_func(x, u)[0]\n",
    "cst = lambda x, u: env.cost_func(x, u)\n",
    "N = 5 # number of future steps for iLQG\n",
    "num_episodes = 10\n",
    "max_steps = 100"
   ]
  },
  {
   "cell_type": "markdown",
   "metadata": {},
   "source": [
    "## iLQG with known dynamics"
   ]
  },
  {
   "cell_type": "code",
   "execution_count": 2,
   "metadata": {
    "scrolled": true
   },
   "outputs": [
    {
     "name": "stdout",
     "output_type": "stream",
     "text": [
      "Iter 0, Steps 26, Reward: -121.844294879\n",
      "Iter 1, Steps 26, Reward: -121.84442169\n",
      "Iter 2, Steps 26, Reward: -121.84507821\n",
      "Iter 3, Steps 26, Reward: -121.844501537\n",
      "Iter 4, Steps 26, Reward: -121.844066325\n",
      "Iter 5, Steps 26, Reward: -121.843281719\n",
      "Iter 6, Steps 26, Reward: -121.844187114\n",
      "Iter 7, Steps 26, Reward: -121.844615069\n",
      "Iter 8, Steps 26, Reward: -121.843772227\n",
      "Iter 9, Steps 26, Reward: -121.843768649\n"
     ]
    }
   ],
   "source": [
    "x0 = env.reset()\n",
    "goal = env.goal\n",
    "u = np.random.randn(N, env.action_dim) * 15.\n",
    "\n",
    "for i_episode in range(num_episodes):\n",
    "    x = env.reset(x0, goal)\n",
    "    terminal = False\n",
    "    i_step = 0\n",
    "    reward = 0.\n",
    "\n",
    "    while not terminal and i_step < max_steps:\n",
    "        env.render()\n",
    "\n",
    "        x, u, L, Vx, Vxx, cost = ilqg(dyn, cst, x, u, {})\n",
    "\n",
    "        x, r, t, _ = env.step(u[0, :])\n",
    "\n",
    "        reward += r\n",
    "        i_step += 1\n",
    "\n",
    "        if t:\n",
    "            break\n",
    "\n",
    "    print('Iter %d, Steps %d, Reward: %s' % (i_episode, i_step, reward))"
   ]
  },
  {
   "cell_type": "code",
   "execution_count": 3,
   "metadata": {
    "collapsed": true
   },
   "outputs": [],
   "source": [
    "env.render(close=True)"
   ]
  },
  {
   "cell_type": "markdown",
   "metadata": {},
   "source": [
    "## iLQG with learned dynamics"
   ]
  },
  {
   "cell_type": "code",
   "execution_count": 4,
   "metadata": {},
   "outputs": [
    {
     "ename": "SyntaxError",
     "evalue": "unexpected EOF while parsing (<ipython-input-4-40105addea62>, line 1)",
     "output_type": "error",
     "traceback": [
      "\u001b[0;36m  File \u001b[0;32m\"<ipython-input-4-40105addea62>\"\u001b[0;36m, line \u001b[0;32m1\u001b[0m\n\u001b[0;31m    def regression(x, u, x_new):\u001b[0m\n\u001b[0m                                ^\u001b[0m\n\u001b[0;31mSyntaxError\u001b[0m\u001b[0;31m:\u001b[0m unexpected EOF while parsing\n"
     ]
    }
   ],
   "source": [
    "def regression(x, u, x_new):"
   ]
  }
 ],
 "metadata": {
  "kernelspec": {
   "display_name": "Environment (conda_drl)",
   "language": "python",
   "name": "conda_drl"
  },
  "language_info": {
   "codemirror_mode": {
    "name": "ipython",
    "version": 3
   },
   "file_extension": ".py",
   "mimetype": "text/x-python",
   "name": "python",
   "nbconvert_exporter": "python",
   "pygments_lexer": "ipython3",
   "version": "3.5.3"
  }
 },
 "nbformat": 4,
 "nbformat_minor": 2
}
