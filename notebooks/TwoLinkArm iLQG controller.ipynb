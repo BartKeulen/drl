{
 "cells": [
  {
   "cell_type": "code",
   "execution_count": 2,
   "metadata": {
    "collapsed": true
   },
   "outputs": [],
   "source": [
    "import numpy as np\n",
    "from scipy.linalg import *\n",
    "from drl.env import TwoLinkArm"
   ]
  },
  {
   "cell_type": "code",
   "execution_count": 3,
   "metadata": {
    "collapsed": true
   },
   "outputs": [],
   "source": [
    "epsilon = 1e-5\n",
    "Ts = 10\n",
    "env = TwoLinkArm(g=0.)\n",
    "N = int(Ts/env.dt)\n",
    "\n",
    "# Cost function scaling factors\n",
    "wp = 1000. # Position\n",
    "wv = 1000. # Velocity\n",
    "wu = 1. # input\n",
    "\n",
    "lamb = 1.0\n",
    "lamb_factor = 10.\n",
    "lamb_max = 1000.\n",
    "eps_converged = 0.001\n",
    "max_iter = 100"
   ]
  },
  {
   "cell_type": "markdown",
   "metadata": {},
   "source": [
    "## Define cost functions"
   ]
  },
  {
   "cell_type": "code",
   "execution_count": 4,
   "metadata": {
    "collapsed": true
   },
   "outputs": [],
   "source": [
    "def calc_cost(u):\n",
    "    l = wu * np.sum(u**2)\n",
    "    lx = np.zeros(env.state_dim)\n",
    "    lu = wu * 2 * u\n",
    "    lxx = np.zeros((env.state_dim, env.state_dim))\n",
    "    luu = wu * 2 * np.eye(env.action_dim)\n",
    "    lux = np.zeros((env.action_dim, env.state_dim))\n",
    "    \n",
    "    return l, lx, lu, lxx, luu, lux"
   ]
  },
  {
   "cell_type": "code",
   "execution_count": 5,
   "metadata": {
    "collapsed": true
   },
   "outputs": [],
   "source": [
    "def calc_final_cost(x, goal):\n",
    "    x1, y1, x2, y2 = env.to_cartesian(x)\n",
    "    x_cart = np.array([x2, y2])\n",
    "    \n",
    "    error = x_cart - goal\n",
    "    l = wp * np.sum(error**2) + wv * np.sum(x[env.action_dim:]**2)\n",
    "    \n",
    "    lx1 = calc_dldx(x, goal)\n",
    "    lx2 = 2 * wv * x[env.action_dim:]\n",
    "    lx = np.concatenate((lx1, lx2))\n",
    "    \n",
    "    lxx = np.zeros((env.state_dim, env.state_dim))\n",
    "    for i in range(2):\n",
    "        x_tmp = np.copy(x)\n",
    "        x_tmp[i] += epsilon\n",
    "        lxx_plus = calc_dldx(x_tmp, goal)\n",
    "        x_tmp = np.copy(x)\n",
    "        x_tmp[i] -= epsilon\n",
    "        lxx_min = calc_dldx(x_tmp, goal)\n",
    "        lxx[i,:2] = (lxx_plus - lxx_min) / (2.*epsilon)\n",
    "    lxx[2:, 2:] = 2 * wv * np.eye(2)\n",
    "    \n",
    "    return l, lx, lxx"
   ]
  },
  {
   "cell_type": "code",
   "execution_count": 6,
   "metadata": {
    "collapsed": true
   },
   "outputs": [],
   "source": [
    "def calc_dldx(x, goal):\n",
    "    m1, m2, l1, l2, g = env.params\n",
    "    x1, y1, x2, y2 = env.to_cartesian(x)\n",
    "    x_cart = np.array([x2, y2])\n",
    "    error = x_cart - goal\n",
    "    dx_cartdx = np.array([[np.cos(x[0])*l1 + np.cos(x[0]+x[1])*l2, np.cos(x[0]+x[1])*l2], [-np.sin(x[0])*l1 - np.sin(x[0]+x[1])*l2, -np.sin(x[0]+x[1])*l2]])\n",
    "    lx1 = 2 * wp * np.dot(error.T, dx_cartdx)\n",
    "    \n",
    "    return lx1"
   ]
  },
  {
   "cell_type": "markdown",
   "metadata": {},
   "source": [
    "## Simulate\n",
    "Performs a roll-out of the system executing policy U starting in x0"
   ]
  },
  {
   "cell_type": "code",
   "execution_count": 7,
   "metadata": {
    "collapsed": true
   },
   "outputs": [],
   "source": [
    "def simulate(x0, U):\n",
    "    N = U.shape[0]\n",
    "    X = np.zeros((N, env.state_dim))\n",
    "    X[0,:] = x0\n",
    "    cost = 0.\n",
    "    \n",
    "    for i in range(1, N):        \n",
    "        X[i,:], _ = env.simulate_system(X[i-1,:], U[i-1,:])\n",
    "        l, _, _, _, _, _ = calc_cost(U[i-1,:])\n",
    "        cost += l*env.dt\n",
    "    \n",
    "    l, _, _ = calc_final_cost(X[-1,:], env.get_goal(True))\n",
    "    cost += l*env.dt\n",
    "    \n",
    "    return X, cost"
   ]
  },
  {
   "cell_type": "markdown",
   "metadata": {},
   "source": [
    "##  Finite difference derivatives\n",
    "Calculates the system dynamics using finite difference\n",
    "\n",
    "$\\dot{x} = f(x,u) = Ax + Bu$\n",
    "\n",
    "Where we can calculate $A$ and $B$ using centered finite difference formula\n",
    "\n",
    "$A = \\frac{\\partial f(x, u)}{\\partial x} = \\frac{\\partial f(x, u)}{\\partial x} = \\frac{f(x + h, u) - f(x - h, u)}{2h} \\\\\n",
    "B = \\frac{\\partial f(x, u)}{\\partial u} \\frac{\\partial f(x, u)}{\\partial u} = \\frac{f(x, u + h) - f(x, u - h)}{2h}$"
   ]
  },
  {
   "cell_type": "code",
   "execution_count": 8,
   "metadata": {
    "collapsed": true
   },
   "outputs": [],
   "source": [
    "def calc_derivatives(x, u):\n",
    "    A = np.zeros((env.state_dim, env.state_dim))\n",
    "    for i in range(env.state_dim):\n",
    "        x_tmp = x.copy()\n",
    "        x_tmp[i] += epsilon\n",
    "        f_1 = env.dynamics_func(x_tmp, u)\n",
    "        x_tmp = x.copy()\n",
    "        x_tmp[i] -= epsilon\n",
    "        f_2 = env.dynamics_func(x_tmp, u)\n",
    "        fxdx = (f_1 - f_2) / (2*epsilon)\n",
    "        A[:, i] = fxdx\n",
    "        \n",
    "    B = np.zeros((env.state_dim, env.action_dim))\n",
    "    for i in range(env.action_dim):\n",
    "        u_tmp = u.copy()\n",
    "        u_tmp[i] += epsilon\n",
    "        f_1 = env.simulate_system(x, u_tmp)\n",
    "        u_tmp = u.copy()\n",
    "        u_tmp[i] -= epsilon\n",
    "        f_2 = env.simulate_system(x, u_tmp)\n",
    "        fxdu = (f_1 - f_2) / (2*epsilon)\n",
    "        B[:, i] = fxdu\n",
    "        \n",
    "    return A, B"
   ]
  },
  {
   "cell_type": "markdown",
   "metadata": {},
   "source": [
    "## Forward pass\n",
    "\n",
    "iLQG requires discrete dynamics, convert using:\n",
    "\n",
    "$x_{k+1} = x_k + \\dot{x}_k\\Delta t$\n",
    "\n",
    "$\\dot{x}_k = Ax_k + Bx_k$\n",
    "\n",
    "Results in:\n",
    "\n",
    "$x_{k+1} = (I + A\\Delta t)x_k + (B\\Delta t)u_k$"
   ]
  },
  {
   "cell_type": "code",
   "execution_count": 9,
   "metadata": {
    "collapsed": true
   },
   "outputs": [],
   "source": [
    "def forward_pass(X, U):\n",
    "    N = X.shape[0]\n",
    "    # Calculate costs and derivatives along trajectory\n",
    "    fx = np.zeros((N, env.state_dim, env.state_dim))\n",
    "    fu = np.zeros((N, env.state_dim, env.action_dim))\n",
    "    l = np.zeros(N)\n",
    "    lx = np.zeros((N, env.state_dim))\n",
    "    lu = np.zeros((N, env.action_dim))\n",
    "    lxx = np.zeros((N, env.state_dim, env.state_dim))\n",
    "    luu = np.zeros((N, env.action_dim, env.action_dim))\n",
    "    lux = np.zeros((N, env.action_dim, env.state_dim))\n",
    "    \n",
    "    for i in range(0, N-1):        \n",
    "        A, B = calc_derivatives(X[i,:], U[i,:]) \n",
    "        \n",
    "        fx[i,:,:] = np.eye(env.state_dim) + A*env.dt\n",
    "        fu[i,:,:] = B*env.dt\n",
    "        \n",
    "        l[i], lx[i,:], lu[i,:], lxx[i,:,:], luu[i,:,:], lux[i,:,:] = calc_cost(U[i,:])\n",
    "        l[i] *= env.dt\n",
    "        lx[i,:] *= env.dt\n",
    "        lu[i,:] *= env.dt\n",
    "        lxx[i,:,:] *= env.dt\n",
    "        luu[i,:,:] *= env.dt\n",
    "        lux[i,:,:] *= env.dt\n",
    "        \n",
    "    l[-1], lx[-1,:], lxx[-1,:,:] = calc_final_cost(X[-1,:], env.get_goal(True))\n",
    "    l[-1] *= env.dt\n",
    "    lx[-1,:] *= env.dt\n",
    "    lxx[-1,:,:] *= env.dt  \n",
    "        \n",
    "    return X, U, fx, fu, l, lx, lu, lxx, luu, lux"
   ]
  },
  {
   "cell_type": "markdown",
   "metadata": {},
   "source": [
    "## Backward pass"
   ]
  },
  {
   "cell_type": "code",
   "execution_count": 10,
   "metadata": {
    "collapsed": true
   },
   "outputs": [],
   "source": [
    "def backward_pass(res_forward):\n",
    "    X, U, fx, fu, l, lx, lu, lxx, luu, lux = res_forward\n",
    "    N = X.shape[0]\n",
    "    \n",
    "    k = np.zeros((N, env.action_dim))\n",
    "    K = np.zeros((N, env.action_dim, env.state_dim))\n",
    "    \n",
    "    V = l[-1].copy()\n",
    "    Vx = lx[-1,:].copy()\n",
    "    Vxx = lxx[-1,:,:].copy()\n",
    "    \n",
    "    for i in range(N-2, -1, -1):\n",
    "        Qx = lx[i,:] + np.dot(fx[i,:].T, Vx)\n",
    "        Qu = lu[i,:] + np.dot(fu[i,:].T, Vx)\n",
    "        Qxx = lxx[i,:,:] + np.dot(fx[i,:].T, np.dot(Vxx, fx[i,:]))\n",
    "        Quu = luu[i,:,:] + np.dot(fu[i,:].T, np.dot(Vxx, fu[i,:]))\n",
    "        Qux = lux[i,:,:] + np.dot(fu[i,:].T, np.dot(Vxx, fx[i,:]))\n",
    "        \n",
    "        U, S, V = np.linalg.svd(Quu)\n",
    "        S[S < 0] = 0.0\n",
    "        S += lamb\n",
    "        Quu_inv = np.dot(U, np.dot(np.diag(1.0/S), V.T))\n",
    "        \n",
    "        k[i,:] = -np.dot(Quu_inv, Qu)\n",
    "        K[i,:,:] = -np.dot(Quu_inv, Qux)\n",
    "        \n",
    "        Vx = Qx - np.dot(K[i,:,:].T, np.dot(Quu, k[i,:]))\n",
    "        Vxx = Qxx - np.dot(K[i,:,:].T, np.dot(Quu, K[i,:,:]))\n",
    "        \n",
    "    return k, K"
   ]
  },
  {
   "cell_type": "markdown",
   "metadata": {},
   "source": [
    "## Update control signals and calculate cost"
   ]
  },
  {
   "cell_type": "code",
   "execution_count": 11,
   "metadata": {
    "collapsed": true
   },
   "outputs": [],
   "source": [
    "def update_control_signal(X, U, k, K):\n",
    "    N = X.shape[0]\n",
    "    X_hat = np.zeros(X.shape)\n",
    "    X_hat[0,:] = X[0,:]\n",
    "    U_hat = np.zeros(U.shape)\n",
    "    \n",
    "    for i in range(N-1):\n",
    "        U_hat[i,:] = U[i,:] + k[i,:] + np.dot(K[i,:,:], X_hat[i,:] - X[i,:])\n",
    "        X_hat[i+1,:], _ = env.simulate_system(X_hat[i,:], U_hat[i,:])\n",
    "        \n",
    "    return X_hat, U_hat"
   ]
  },
  {
   "cell_type": "markdown",
   "metadata": {},
   "source": [
    "## iLQG algorithm"
   ]
  },
  {
   "cell_type": "code",
   "execution_count": 12,
   "metadata": {
    "collapsed": true
   },
   "outputs": [],
   "source": [
    "def iLQG(x, U):\n",
    "    lamb = 1.\n",
    "    perform_rollout = True\n",
    "    \n",
    "    for i in range(max_iter):\n",
    "        \n",
    "        # Perform a roll-out\n",
    "        if perform_rollout:\n",
    "            X, cost = simulate(x, U)\n",
    "            perform_rollout = False\n",
    "\n",
    "        res_forward = forward_pass(X, U)\n",
    "        k, K = backward_pass(res_forward)\n",
    "        X_hat, U_hat = update_control_signal(X, U, k, K)\n",
    "\n",
    "        X_hat, cost_hat = simulate(x, U_hat)\n",
    "\n",
    "        if cost_hat < cost:\n",
    "            lamb /= lamb_factor\n",
    "\n",
    "            X = np.copy(X_hat)\n",
    "            U = np.copy(U_hat)\n",
    "            cost_old = np.copy(cost)\n",
    "            cost = np.copy(cost_hat)\n",
    "    \n",
    "            perform_rollout = True\n",
    "        \n",
    "            if np.abs((cost_hat - cost)/cost) < eps_converged:\n",
    "                print(\"Converged at iteration %d - Cost: %.4f - Lambda: %.1f\" % (i, cost, lamb))\n",
    "                break\n",
    "        else:\n",
    "            lamb *= lamb_factor\n",
    "            \n",
    "            if lamb > lamb_max:\n",
    "                print(\"Lambda > max lambda at iteration %d - Cost %.1f - Lambda: %.1f\" % (i, cost, lamb))\n",
    "                break\n",
    "            \n",
    "    return X, U, cost"
   ]
  },
  {
   "cell_type": "code",
   "execution_count": 13,
   "metadata": {},
   "outputs": [
    {
     "ename": "AttributeError",
     "evalue": "'TwoLinkArm' object has no attribute 'simulate_system'",
     "output_type": "error",
     "traceback": [
      "\u001b[0;31m---------------------------------------------------------------------------\u001b[0m",
      "\u001b[0;31mAttributeError\u001b[0m                            Traceback (most recent call last)",
      "\u001b[0;32m<ipython-input-13-cc875098d607>\u001b[0m in \u001b[0;36m<module>\u001b[0;34m()\u001b[0m\n\u001b[1;32m      6\u001b[0m \u001b[0;34m\u001b[0m\u001b[0m\n\u001b[1;32m      7\u001b[0m \u001b[0;32mfor\u001b[0m \u001b[0mi\u001b[0m \u001b[0;32min\u001b[0m \u001b[0mrange\u001b[0m\u001b[0;34m(\u001b[0m\u001b[0mN\u001b[0m\u001b[0;34m)\u001b[0m\u001b[0;34m:\u001b[0m\u001b[0;34m\u001b[0m\u001b[0m\n\u001b[0;32m----> 8\u001b[0;31m     \u001b[0mX\u001b[0m\u001b[0;34m,\u001b[0m \u001b[0mU\u001b[0m\u001b[0;34m,\u001b[0m \u001b[0mcost\u001b[0m \u001b[0;34m=\u001b[0m \u001b[0miLQG\u001b[0m\u001b[0;34m(\u001b[0m\u001b[0mx\u001b[0m\u001b[0;34m,\u001b[0m \u001b[0mU\u001b[0m\u001b[0;34m)\u001b[0m\u001b[0;34m\u001b[0m\u001b[0m\n\u001b[0m\u001b[1;32m      9\u001b[0m \u001b[0;34m\u001b[0m\u001b[0m\n\u001b[1;32m     10\u001b[0m     \u001b[0mx\u001b[0m\u001b[0;34m,\u001b[0m \u001b[0m_\u001b[0m\u001b[0;34m,\u001b[0m \u001b[0m_\u001b[0m\u001b[0;34m,\u001b[0m \u001b[0m_\u001b[0m \u001b[0;34m=\u001b[0m \u001b[0menv\u001b[0m\u001b[0;34m.\u001b[0m\u001b[0mstep\u001b[0m\u001b[0;34m(\u001b[0m\u001b[0mU\u001b[0m\u001b[0;34m[\u001b[0m\u001b[0;36m0\u001b[0m\u001b[0;34m,\u001b[0m\u001b[0;34m:\u001b[0m\u001b[0;34m]\u001b[0m\u001b[0;34m)\u001b[0m\u001b[0;34m\u001b[0m\u001b[0m\n",
      "\u001b[0;32m<ipython-input-12-35e66b9b9810>\u001b[0m in \u001b[0;36miLQG\u001b[0;34m(x, U)\u001b[0m\n\u001b[1;32m      7\u001b[0m         \u001b[0;31m# Perform a roll-out\u001b[0m\u001b[0;34m\u001b[0m\u001b[0;34m\u001b[0m\u001b[0m\n\u001b[1;32m      8\u001b[0m         \u001b[0;32mif\u001b[0m \u001b[0mperform_rollout\u001b[0m\u001b[0;34m:\u001b[0m\u001b[0;34m\u001b[0m\u001b[0m\n\u001b[0;32m----> 9\u001b[0;31m             \u001b[0mX\u001b[0m\u001b[0;34m,\u001b[0m \u001b[0mcost\u001b[0m \u001b[0;34m=\u001b[0m \u001b[0msimulate\u001b[0m\u001b[0;34m(\u001b[0m\u001b[0mx\u001b[0m\u001b[0;34m,\u001b[0m \u001b[0mU\u001b[0m\u001b[0;34m)\u001b[0m\u001b[0;34m\u001b[0m\u001b[0m\n\u001b[0m\u001b[1;32m     10\u001b[0m             \u001b[0mperform_rollout\u001b[0m \u001b[0;34m=\u001b[0m \u001b[0;32mFalse\u001b[0m\u001b[0;34m\u001b[0m\u001b[0m\n\u001b[1;32m     11\u001b[0m \u001b[0;34m\u001b[0m\u001b[0m\n",
      "\u001b[0;32m<ipython-input-7-052ede56e121>\u001b[0m in \u001b[0;36msimulate\u001b[0;34m(x0, U)\u001b[0m\n\u001b[1;32m      6\u001b[0m \u001b[0;34m\u001b[0m\u001b[0m\n\u001b[1;32m      7\u001b[0m     \u001b[0;32mfor\u001b[0m \u001b[0mi\u001b[0m \u001b[0;32min\u001b[0m \u001b[0mrange\u001b[0m\u001b[0;34m(\u001b[0m\u001b[0;36m1\u001b[0m\u001b[0;34m,\u001b[0m \u001b[0mN\u001b[0m\u001b[0;34m)\u001b[0m\u001b[0;34m:\u001b[0m\u001b[0;34m\u001b[0m\u001b[0m\n\u001b[0;32m----> 8\u001b[0;31m         \u001b[0mX\u001b[0m\u001b[0;34m[\u001b[0m\u001b[0mi\u001b[0m\u001b[0;34m,\u001b[0m\u001b[0;34m:\u001b[0m\u001b[0;34m]\u001b[0m\u001b[0;34m,\u001b[0m \u001b[0m_\u001b[0m \u001b[0;34m=\u001b[0m \u001b[0menv\u001b[0m\u001b[0;34m.\u001b[0m\u001b[0msimulate_system\u001b[0m\u001b[0;34m(\u001b[0m\u001b[0mX\u001b[0m\u001b[0;34m[\u001b[0m\u001b[0mi\u001b[0m\u001b[0;34m-\u001b[0m\u001b[0;36m1\u001b[0m\u001b[0;34m,\u001b[0m\u001b[0;34m:\u001b[0m\u001b[0;34m]\u001b[0m\u001b[0;34m,\u001b[0m \u001b[0mU\u001b[0m\u001b[0;34m[\u001b[0m\u001b[0mi\u001b[0m\u001b[0;34m-\u001b[0m\u001b[0;36m1\u001b[0m\u001b[0;34m,\u001b[0m\u001b[0;34m:\u001b[0m\u001b[0;34m]\u001b[0m\u001b[0;34m)\u001b[0m\u001b[0;34m\u001b[0m\u001b[0m\n\u001b[0m\u001b[1;32m      9\u001b[0m         \u001b[0ml\u001b[0m\u001b[0;34m,\u001b[0m \u001b[0m_\u001b[0m\u001b[0;34m,\u001b[0m \u001b[0m_\u001b[0m\u001b[0;34m,\u001b[0m \u001b[0m_\u001b[0m\u001b[0;34m,\u001b[0m \u001b[0m_\u001b[0m\u001b[0;34m,\u001b[0m \u001b[0m_\u001b[0m \u001b[0;34m=\u001b[0m \u001b[0mcalc_cost\u001b[0m\u001b[0;34m(\u001b[0m\u001b[0mU\u001b[0m\u001b[0;34m[\u001b[0m\u001b[0mi\u001b[0m\u001b[0;34m-\u001b[0m\u001b[0;36m1\u001b[0m\u001b[0;34m,\u001b[0m\u001b[0;34m:\u001b[0m\u001b[0;34m]\u001b[0m\u001b[0;34m)\u001b[0m\u001b[0;34m\u001b[0m\u001b[0m\n\u001b[1;32m     10\u001b[0m         \u001b[0mcost\u001b[0m \u001b[0;34m+=\u001b[0m \u001b[0ml\u001b[0m\u001b[0;34m*\u001b[0m\u001b[0menv\u001b[0m\u001b[0;34m.\u001b[0m\u001b[0mdt\u001b[0m\u001b[0;34m\u001b[0m\u001b[0m\n",
      "\u001b[0;31mAttributeError\u001b[0m: 'TwoLinkArm' object has no attribute 'simulate_system'"
     ]
    }
   ],
   "source": [
    "x = env.reset()\n",
    "env.render()\n",
    "\n",
    "# Generate random sequence of actions\n",
    "U = np.random.randn(N-1, env.action_dim)*env.action_high\n",
    "\n",
    "for i in range(N):\n",
    "    X, U, cost = iLQG(x, U)\n",
    "    \n",
    "    x, _, _, _ = env.step(U[0,:])\n",
    "    \n",
    "    U = U[1:,:]\n",
    "    \n",
    "    env.render()"
   ]
  },
  {
   "cell_type": "code",
   "execution_count": null,
   "metadata": {
    "collapsed": true
   },
   "outputs": [],
   "source": [
    "env.render(close=True)"
   ]
  }
 ],
 "metadata": {
  "kernelspec": {
   "display_name": "Environment (conda_drl)",
   "language": "python",
   "name": "conda_drl"
  },
  "language_info": {
   "codemirror_mode": {
    "name": "ipython",
    "version": 3
   },
   "file_extension": ".py",
   "mimetype": "text/x-python",
   "name": "python",
   "nbconvert_exporter": "python",
   "pygments_lexer": "ipython3",
   "version": "3.5.3"
  }
 },
 "nbformat": 4,
 "nbformat_minor": 2
}
