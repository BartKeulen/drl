{
 "cells": [
  {
   "cell_type": "code",
   "execution_count": 1,
   "metadata": {
    "collapsed": true
   },
   "outputs": [],
   "source": [
    "import numpy as np\n",
    "from drl.ilqg import ilqg\n",
    "from drl.env.arm import TwoLinkArm\n",
    "\n",
    "env = TwoLinkArm(g=0.)\n",
    "    \n",
    "dyn = lambda x, u: env.dynamics_func(x, u)[0]\n",
    "cst = lambda x, u: env.cost_func(x, u)\n",
    "N = 5 # number of future steps for iLQG\n",
    "num_episodes = 25\n",
    "max_steps = 50"
   ]
  },
  {
   "cell_type": "markdown",
   "metadata": {},
   "source": [
    "## iLQG with known dynamics"
   ]
  },
  {
   "cell_type": "code",
   "execution_count": null,
   "metadata": {
    "scrolled": true
   },
   "outputs": [],
   "source": [
    "x0 = env.reset()\n",
    "goal = env.goal\n",
    "u = np.random.randn(N, env.action_dim) * 15.\n",
    "\n",
    "for i_episode in range(num_episodes):\n",
    "    x = env.reset(x0, goal)\n",
    "    terminal = False\n",
    "    i_step = 0\n",
    "    reward = 0.\n",
    "\n",
    "    while not terminal and i_step < max_steps:\n",
    "        env.render()\n",
    "\n",
    "        x, u, L, Vx, Vxx, cost = ilqg(dyn, cst, x, u, {})\n",
    "\n",
    "        x, r, t, _ = env.step(u[0, :])\n",
    "\n",
    "        reward += r\n",
    "        i_step += 1\n",
    "\n",
    "        if t:\n",
    "            break\n",
    "\n",
    "    print('Iter %d, Steps %d, Reward: %s' % (i_episode, i_step, reward))"
   ]
  },
  {
   "cell_type": "code",
   "execution_count": null,
   "metadata": {
    "collapsed": true
   },
   "outputs": [],
   "source": [
    "env.render(close=True)"
   ]
  }
 ],
 "metadata": {
  "kernelspec": {
   "display_name": "Environment (conda_drl)",
   "language": "python",
   "name": "conda_drl"
  },
  "language_info": {
   "codemirror_mode": {
    "name": "ipython",
    "version": 3
   },
   "file_extension": ".py",
   "mimetype": "text/x-python",
   "name": "python",
   "nbconvert_exporter": "python",
   "pygments_lexer": "ipython3",
   "version": "3.5.3"
  }
 },
 "nbformat": 4,
 "nbformat_minor": 2
}
