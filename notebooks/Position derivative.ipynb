{
 "cells": [
  {
   "cell_type": "code",
   "execution_count": 16,
   "metadata": {},
   "outputs": [],
   "source": [
    "from sympy import *\n",
    "\n",
    "x, y, theta1, theta2, l1, l2, xs, ys = symbols('x y theta1 theta2 l1 l2 xs ys')"
   ]
  },
  {
   "cell_type": "code",
   "execution_count": 17,
   "metadata": {
    "collapsed": true
   },
   "outputs": [],
   "source": [
    "x = l1*sin(theta1) + l2*sin(theta1+theta2)\n",
    "y = l1*cos(theta1) + l2*cos(theta1+theta2)"
   ]
  },
  {
   "cell_type": "code",
   "execution_count": 20,
   "metadata": {},
   "outputs": [
    {
     "name": "stdout",
     "output_type": "stream",
     "text": [
      "sqrt((l1*sin(theta1) + l2*sin(theta1 + theta2) - xs)**2 + (l1*cos(theta1) + l2*cos(theta1 + theta2) - ys)**2)\n"
     ]
    }
   ],
   "source": [
    "c = sqrt((x-xs)*(x-xs) + (y-ys)*(y-ys))\n",
    "\n",
    "print(c)"
   ]
  },
  {
   "cell_type": "code",
   "execution_count": 24,
   "metadata": {},
   "outputs": [],
   "source": [
    "dcdtheta1 = diff(c, theta1)\n",
    "dcdtheta2 = diff(c, theta2)"
   ]
  },
  {
   "cell_type": "code",
   "execution_count": 27,
   "metadata": {},
   "outputs": [
    {
     "name": "stdout",
     "output_type": "stream",
     "text": [
      "(-l1*xs*cos(theta1) + l1*ys*sin(theta1) - l2*xs*cos(theta1 + theta2) + l2*ys*sin(theta1 + theta2))/sqrt((l1*sin(theta1) + l2*sin(theta1 + theta2) - xs)**2 + (l1*cos(theta1) + l2*cos(theta1 + theta2) - ys)**2)\n",
      "\n",
      "l2*(-l1*sin(theta2) - xs*cos(theta1 + theta2) + ys*sin(theta1 + theta2))/sqrt((l1*sin(theta1) + l2*sin(theta1 + theta2) - xs)**2 + (l1*cos(theta1) + l2*cos(theta1 + theta2) - ys)**2)\n"
     ]
    }
   ],
   "source": [
    "print(simplify(dcdtheta1))\n",
    "print(\"\")\n",
    "print(simplify(dcdtheta2))"
   ]
  },
  {
   "cell_type": "code",
   "execution_count": 30,
   "metadata": {},
   "outputs": [
    {
     "name": "stdout",
     "output_type": "stream",
     "text": [
      "(l2*(l1*sin(theta1) + l2*sin(theta1 + theta2) - xs)*cos(theta1 + theta2) - l2*(l1*cos(theta1) + l2*cos(theta1 + theta2) - ys)*sin(theta1 + theta2))/sqrt((l1*sin(theta1) + l2*sin(theta1 + theta2) - xs)**2 + (l1*cos(theta1) + l2*cos(theta1 + theta2) - ys)**2)\n"
     ]
    }
   ],
   "source": [
    "print(dcdtheta2)"
   ]
  },
  {
   "cell_type": "code",
   "execution_count": 28,
   "metadata": {
    "collapsed": true
   },
   "outputs": [],
   "source": [
    "dcdtheta1dtheta1 = diff(dcdtheta1, theta1)\n",
    "dcdtheta1dtheta2 = diff(dcdtheta1, theta2)\n",
    "dcdtheta2dtheta1 = diff(dcdtheta2, theta1)\n",
    "dcdtheta2dtheta2 = diff(dcdtheta2, theta2)"
   ]
  },
  {
   "cell_type": "code",
   "execution_count": 29,
   "metadata": {},
   "outputs": [
    {
     "name": "stdout",
     "output_type": "stream",
     "text": [
      "(((l1*sin(theta1) + l2*sin(theta1 + theta2) - xs)**2 + (l1*cos(theta1) + l2*cos(theta1 + theta2) - ys)**2)*(l1*xs*sin(theta1) + l1*ys*cos(theta1) + l2*xs*sin(theta1 + theta2) + l2*ys*cos(theta1 + theta2)) - (l1*xs*cos(theta1) - l1*ys*sin(theta1) + l2*xs*cos(theta1 + theta2) - l2*ys*sin(theta1 + theta2))**2)/((l1*sin(theta1) + l2*sin(theta1 + theta2) - xs)**2 + (l1*cos(theta1) + l2*cos(theta1 + theta2) - ys)**2)**(3/2)\n",
      "\n",
      "l2*((xs*sin(theta1 + theta2) + ys*cos(theta1 + theta2))*((l1*sin(theta1) + l2*sin(theta1 + theta2) - xs)**2 + (l1*cos(theta1) + l2*cos(theta1 + theta2) - ys)**2) + (-l1*sin(theta2) - xs*cos(theta1 + theta2) + ys*sin(theta1 + theta2))*(l1*xs*cos(theta1) - l1*ys*sin(theta1) + l2*xs*cos(theta1 + theta2) - l2*ys*sin(theta1 + theta2)))/((l1*sin(theta1) + l2*sin(theta1 + theta2) - xs)**2 + (l1*cos(theta1) + l2*cos(theta1 + theta2) - ys)**2)**(3/2)\n",
      "\n",
      "l2*((xs*sin(theta1 + theta2) + ys*cos(theta1 + theta2))*((l1*sin(theta1) + l2*sin(theta1 + theta2) - xs)**2 + (l1*cos(theta1) + l2*cos(theta1 + theta2) - ys)**2) + (-l1*sin(theta2) - xs*cos(theta1 + theta2) + ys*sin(theta1 + theta2))*(l1*xs*cos(theta1) - l1*ys*sin(theta1) + l2*xs*cos(theta1 + theta2) - l2*ys*sin(theta1 + theta2)))/((l1*sin(theta1) + l2*sin(theta1 + theta2) - xs)**2 + (l1*cos(theta1) + l2*cos(theta1 + theta2) - ys)**2)**(3/2)\n",
      "\n",
      "l2*(-l2*(l1*sin(theta2) + xs*cos(theta1 + theta2) - ys*sin(theta1 + theta2))**2 + ((l1*sin(theta1) + l2*sin(theta1 + theta2) - xs)**2 + (l1*cos(theta1) + l2*cos(theta1 + theta2) - ys)**2)*(-l1*cos(theta2) + xs*sin(theta1 + theta2) + ys*cos(theta1 + theta2)))/((l1*sin(theta1) + l2*sin(theta1 + theta2) - xs)**2 + (l1*cos(theta1) + l2*cos(theta1 + theta2) - ys)**2)**(3/2)\n",
      "\n"
     ]
    }
   ],
   "source": [
    "print(simplify(dcdtheta1dtheta1))\n",
    "print(\"\")\n",
    "print(simplify(dcdtheta1dtheta2))\n",
    "print(\"\")\n",
    "print(simplify(dcdtheta2dtheta1))\n",
    "print(\"\")\n",
    "print(simplify(dcdtheta2dtheta2))\n",
    "print(\"\")"
   ]
  }
 ],
 "metadata": {
  "kernelspec": {
   "display_name": "Environment (conda_drl)",
   "language": "python",
   "name": "conda_drl"
  },
  "language_info": {
   "codemirror_mode": {
    "name": "ipython",
    "version": 3
   },
   "file_extension": ".py",
   "mimetype": "text/x-python",
   "name": "python",
   "nbconvert_exporter": "python",
   "pygments_lexer": "ipython3",
   "version": "3.5.3"
  }
 },
 "nbformat": 4,
 "nbformat_minor": 2
}
