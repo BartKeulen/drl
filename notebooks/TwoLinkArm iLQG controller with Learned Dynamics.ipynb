{
 "cells": [
  {
   "cell_type": "code",
   "execution_count": 1,
   "metadata": {
    "collapsed": true
   },
   "outputs": [],
   "source": [
    "import numpy as np\n",
    "from drl.ilqg import ilqg\n",
    "from drl.env.arm import TwoLinkArm\n",
    "from sklearn.linear_model import LinearRegression\n",
    "from sklearn import preprocessing\n",
    "\n",
    "env = TwoLinkArm(g=0., wp=10., wv=1., wu=0.001)\n",
    "\n",
    "N = 5 # number of future steps for iLQG\n",
    "num_episodes = 25\n",
    "max_steps = 50"
   ]
  },
  {
   "cell_type": "code",
   "execution_count": 2,
   "metadata": {
    "collapsed": true
   },
   "outputs": [],
   "source": [
    "def cst(x, u):\n",
    "    return env.cost_func(x, u)"
   ]
  },
  {
   "cell_type": "code",
   "execution_count": null,
   "metadata": {
    "collapsed": true
   },
   "outputs": [],
   "source": [
    "def dynamics_func(model, x, u):\n",
    "    u[np.isnan(u)] = 0.\n",
    "    X_in = np.concatenate((x, u)).reshape(1, -1)\n",
    "    beta = models[i].coef_\n",
    "    return models[i].predict(X_in)[0], beta[:,:env.state_dim].T, beta[:,env.state_dim:].T, None, None, None"
   ]
  },
  {
   "cell_type": "markdown",
   "metadata": {},
   "source": [
    "## iLQG with learned dynamics\n",
    "\n"
   ]
  },
  {
   "cell_type": "code",
   "execution_count": null,
   "metadata": {
    "scrolled": true
   },
   "outputs": [
    {
     "name": "stdout",
     "output_type": "stream",
     "text": [
      "Iter 0, Steps 50, Reward: -1088.42033112\n",
      "Iter 1, Steps 50, Reward: -891.082715248\n"
     ]
    },
    {
     "name": "stderr",
     "output_type": "stream",
     "text": [
      "[2017-06-13 14:48:25,902] \n",
      "EXIT: Maximum iterations reached.\n",
      "\n"
     ]
    },
    {
     "name": "stdout",
     "output_type": "stream",
     "text": [
      "Iter 2, Steps 50, Reward: -941.399218081\n",
      "Iter 3, Steps 50, Reward: -890.770303805\n",
      "Iter 4, Steps 50, Reward: -886.810433585\n",
      "Iter 5, Steps 50, Reward: -886.711840396\n",
      "Iter 6, Steps 50, Reward: -895.990587149\n",
      "Iter 7, Steps 50, Reward: -905.487179957\n",
      "Iter 8, Steps 50, Reward: -891.89139527\n",
      "Iter 9, Steps 50, Reward: -429.36783758\n",
      "Iter 10, Steps 50, Reward: -426.465426025\n",
      "Iter 11, Steps 50, Reward: -426.749569904\n",
      "Iter 12, Steps 50, Reward: -426.853591206\n"
     ]
    }
   ],
   "source": [
    "models = []\n",
    "for i in range(max_steps):\n",
    "    models.append(LinearRegression())\n",
    "        \n",
    "x = x0 = env.reset()\n",
    "goal = env.goal\n",
    "traj_rewards = []\n",
    "\n",
    "# Initialize random control sequence\n",
    "u = np.random.randn(max_steps, env.action_dim)\n",
    "\n",
    "# Initialize data matrices\n",
    "X = np.zeros((max_steps, num_episodes, env.state_dim + env.action_dim))\n",
    "Y = np.zeros((max_steps, num_episodes, env.state_dim))\n",
    "\n",
    "# Simulate systems once\n",
    "reward = 0.\n",
    "for i_step in range(max_steps):\n",
    "    env.render()\n",
    "    X[i_step,0,:] = np.concatenate((x, u[i,:]))\n",
    "    x, r, t, _ = env.step(u[i,:]) \n",
    "    Y[i_step,0,:] = x\n",
    "    reward += r\n",
    "traj_rewards.append(reward)\n",
    "print('Iter %d, Steps %d, Reward: %s' % (0, i_step+1, reward))\n",
    "    \n",
    "# Only use first N control inputs for iLQG estimator\n",
    "u = u[:N,:]\n",
    "    \n",
    "for i_episode in range(1, num_episodes):\n",
    "    # Fit models\n",
    "    \n",
    "#     # TODO: Add scaled weights for better fitted models\n",
    "#     if len(traj_rewards) > 5:\n",
    "#         sample_weights = preprocessing.scale(traj_rewards)\n",
    "#         sample_weights -= np.min(sample_weights) - 0.5\n",
    "#     else:\n",
    "#         sample_weights = [1.]*len(traj_rewards)\n",
    "        \n",
    "    for i in range(max_steps-N):\n",
    "        x_tmp = X[i:i+N,:,:]\n",
    "        x_tmp = np.reshape(x_tmp, [x_tmp.shape[0]*x_tmp.shape[1], x_tmp.shape[2]])\n",
    "        y_tmp = Y[i:i+N,:,:]\n",
    "        y_tmp = np.reshape(y_tmp, [y_tmp.shape[0]*y_tmp.shape[1], y_tmp.shape[2]])\n",
    "        models[i].fit(x_tmp, y_tmp)\n",
    "    \n",
    "    for i in range(max_steps-N, max_steps):\n",
    "        x_tmp = X[i:,:,:]\n",
    "        x_tmp = np.reshape(x_tmp, [x_tmp.shape[0]*x_tmp.shape[1], x_tmp.shape[2]])\n",
    "        y_tmp = Y[i:,:,:]\n",
    "        y_tmp = np.reshape(y_tmp, [y_tmp.shape[0]*y_tmp.shape[1], y_tmp.shape[2]])\n",
    "        models[i].fit(x_tmp, y_tmp)\n",
    "    \n",
    "    x = env.reset(x0, goal)\n",
    "    terminal = False\n",
    "    i_step = 0\n",
    "    reward = 0.\n",
    "    \n",
    "    for i_step in range(max_steps):\n",
    "        env.render()\n",
    "        \n",
    "        # iLQG estimate with fitted dynamics\n",
    "        dyn = lambda x, u: dynamics_func(models[i_step], x, u)\n",
    "\n",
    "        _, u, L, Vx, Vxx, cost = ilqg(dyn, cst, x, u, {})\n",
    "                \n",
    "        # Take step\n",
    "        x_new, r, t, _ = env.step(u[0, :])\n",
    "\n",
    "        # Add to data matrices\n",
    "        X[i_step,i_episode,:] = np.concatenate((x, u[0,:]))\n",
    "        Y[i_step,i_episode,:] = x_new\n",
    "        \n",
    "        u = np.concatenate((u[1:,:], np.random.randn(1, env.action_dim))) \n",
    "        \n",
    "        x = x_new\n",
    "        reward += r\n",
    "        i_step += 1\n",
    "        \n",
    "        if t:\n",
    "            break\n",
    "    \n",
    "    traj_rewards.append(reward)\n",
    "    print('Iter %d, Steps %d, Reward: %s' % (i_episode, i_step, reward))"
   ]
  },
  {
   "cell_type": "code",
   "execution_count": null,
   "metadata": {
    "collapsed": true
   },
   "outputs": [],
   "source": [
    "env.render(close=True)"
   ]
  }
 ],
 "metadata": {
  "kernelspec": {
   "display_name": "Environment (conda_drl)",
   "language": "python",
   "name": "conda_drl"
  },
  "language_info": {
   "codemirror_mode": {
    "name": "ipython",
    "version": 3
   },
   "file_extension": ".py",
   "mimetype": "text/x-python",
   "name": "python",
   "nbconvert_exporter": "python",
   "pygments_lexer": "ipython3",
   "version": "3.5.3"
  }
 },
 "nbformat": 4,
 "nbformat_minor": 2
}
