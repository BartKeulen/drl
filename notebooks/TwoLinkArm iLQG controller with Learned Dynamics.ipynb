{
 "cells": [
  {
   "cell_type": "code",
   "execution_count": 1,
   "metadata": {
    "collapsed": true
   },
   "outputs": [],
   "source": [
    "import numpy as np\n",
    "from drl.ilqg import ilqg\n",
    "from drl.env.arm import TwoLinkArm\n",
    "from sklearn.linear_model import LinearRegression\n",
    "from sklearn import preprocessing\n",
    "\n",
    "env = TwoLinkArm(g=0.)\n",
    "\n",
    "dyn = lambda x, u: env.dynamics_func(x, u)[0]\n",
    "cst = lambda x, u: env.cost_func(x, u)\n",
    "N = 5 # number of future steps for iLQG\n",
    "num_episodes = 25\n",
    "max_steps = 50"
   ]
  },
  {
   "cell_type": "markdown",
   "metadata": {},
   "source": [
    "## iLQG with learned dynamics\n",
    "\n"
   ]
  },
  {
   "cell_type": "code",
   "execution_count": null,
   "metadata": {},
   "outputs": [
    {
     "name": "stdout",
     "output_type": "stream",
     "text": [
      "Iter 0, Steps 49, Reward: -256.456878756\n",
      "Iter 1, Steps 50, Reward: -256.844986448\n",
      "Iter 2, Steps 50, Reward: -252.365384574\n",
      "Iter 3, Steps 50, Reward: -309.188827728\n",
      "Iter 4, Steps 50, Reward: -169.592953264\n",
      "Iter 5, Steps 50, Reward: -123.873524611\n",
      "Iter 6, Steps 50, Reward: -88.7034499146\n",
      "Iter 7, Steps 50, Reward: -66.0021048846\n",
      "Iter 8, Steps 50, Reward: -68.7185666591\n",
      "Iter 9, Steps 50, Reward: -68.7741018316\n",
      "Iter 10, Steps 50, Reward: -68.7959687432\n",
      "Iter 11, Steps 50, Reward: -68.8058209097\n",
      "Iter 12, Steps 50, Reward: -68.8101041238\n",
      "Iter 13, Steps 50, Reward: -68.8115437472\n",
      "Iter 14, Steps 50, Reward: -68.8118392537\n",
      "Iter 15, Steps 50, Reward: -68.8111520068\n",
      "Iter 16, Steps 50, Reward: -68.8099096476\n",
      "Iter 17, Steps 50, Reward: -68.8085317681\n",
      "Iter 18, Steps 50, Reward: -68.8071201088\n",
      "Iter 19, Steps 50, Reward: -68.8057478368\n"
     ]
    }
   ],
   "source": [
    "models = []\n",
    "for i in range(max_steps):\n",
    "#     models.append(GaussianProcessRegressor())\n",
    "    models.append(LinearRegression())\n",
    "    \n",
    "def dynamics_func(model, x, u):\n",
    "    u[np.isnan(u)] = 0.\n",
    "    X_in = np.concatenate((x, u)).reshape(1, -1)\n",
    "    return models[i].predict(X_in)[0]\n",
    "    \n",
    "x = x0 = env.reset()\n",
    "goal = env.goal\n",
    "traj_rewards = []\n",
    "\n",
    "# Initialize random control sequence\n",
    "u = np.random.randn(max_steps, env.action_dim)\n",
    "\n",
    "# Initialize data matrices\n",
    "X = np.zeros((max_steps, num_episodes, env.state_dim + env.action_dim))\n",
    "Y = np.zeros((max_steps, num_episodes, env.state_dim))\n",
    "\n",
    "# Simulate systems once\n",
    "reward = 0.\n",
    "for i_step in range(max_steps):\n",
    "    env.render()\n",
    "    X[i_step,0,:] = np.concatenate((x, u[i,:]))\n",
    "    x, r, t, _ = env.step(u[i,:]) \n",
    "    Y[i_step,0,:] = x\n",
    "    reward += r\n",
    "traj_rewards.append(reward)\n",
    "print('Iter %d, Steps %d, Reward: %s' % (0, i_step+1, reward))\n",
    "    \n",
    "# Only use first N control inputs for iLQG estimator\n",
    "u = u[:N,:]\n",
    "    \n",
    "for i_episode in range(1, num_episodes):\n",
    "    # Fit models\n",
    "    \n",
    "#     # TODO: Add scaled weights for better fitted models\n",
    "#     if len(traj_rewards) > 5:\n",
    "#         sample_weights = preprocessing.scale(traj_rewards)\n",
    "#         sample_weights -= np.min(sample_weights) - 0.5\n",
    "#     else:\n",
    "#         sample_weights = [1.]*len(traj_rewards)\n",
    "        \n",
    "    for i in range(max_steps-N):\n",
    "        x_tmp = X[i:i+N,:,:]\n",
    "        x_tmp = np.reshape(x_tmp, [x_tmp.shape[0]*x_tmp.shape[1], x_tmp.shape[2]])\n",
    "        y_tmp = Y[i:i+N,:,:]\n",
    "        y_tmp = np.reshape(y_tmp, [y_tmp.shape[0]*y_tmp.shape[1], y_tmp.shape[2]])\n",
    "        models[i].fit(x_tmp, y_tmp)\n",
    "    \n",
    "    for i in range(max_steps-N, max_steps):\n",
    "        x_tmp = X[i:,:,:]\n",
    "        x_tmp = np.reshape(x_tmp, [x_tmp.shape[0]*x_tmp.shape[1], x_tmp.shape[2]])\n",
    "        y_tmp = Y[i:,:,:]\n",
    "        y_tmp = np.reshape(y_tmp, [y_tmp.shape[0]*y_tmp.shape[1], y_tmp.shape[2]])\n",
    "        models[i].fit(x_tmp, y_tmp)\n",
    "    \n",
    "    x = env.reset(x0, goal)\n",
    "    terminal = False\n",
    "    i_step = 0\n",
    "    reward = 0.\n",
    "    \n",
    "    for i_step in range(max_steps):\n",
    "        env.render()\n",
    "        \n",
    "        # iLQG estimate with fitted dynamics\n",
    "        dyn = lambda x, u: dynamics_func(models[i_step], x, u)\n",
    "\n",
    "        _, u, L, Vx, Vxx, cost = ilqg(dyn, cst, x, u, {})\n",
    "        \n",
    "        # Take step\n",
    "        x_new, r, t, _ = env.step(u[0, :])\n",
    "\n",
    "        # Add to data matrices\n",
    "        X[i_step,i_episode,:] = np.concatenate((x, u[0,:]))\n",
    "        Y[i_step,i_episode,:] = x_new\n",
    "        \n",
    "        u = np.concatenate((u[1:,:], np.random.randn(1, env.action_dim))) \n",
    "        \n",
    "        x = x_new\n",
    "        reward += r\n",
    "        i_step += 1\n",
    "        \n",
    "        if t:\n",
    "            break\n",
    "    \n",
    "    traj_rewards.append(reward)\n",
    "    print('Iter %d, Steps %d, Reward: %s' % (i_episode, i_step, reward))"
   ]
  },
  {
   "cell_type": "code",
   "execution_count": 3,
   "metadata": {
    "collapsed": true
   },
   "outputs": [],
   "source": [
    "env.render(close=True)"
   ]
  }
 ],
 "metadata": {
  "kernelspec": {
   "display_name": "Environment (conda_drl)",
   "language": "python",
   "name": "conda_drl"
  },
  "language_info": {
   "codemirror_mode": {
    "name": "ipython",
    "version": 3
   },
   "file_extension": ".py",
   "mimetype": "text/x-python",
   "name": "python",
   "nbconvert_exporter": "python",
   "pygments_lexer": "ipython3",
   "version": "3.5.3"
  }
 },
 "nbformat": 4,
 "nbformat_minor": 2
}
