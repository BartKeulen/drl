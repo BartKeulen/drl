{
 "cells": [
  {
   "cell_type": "code",
   "execution_count": 1,
   "metadata": {
    "collapsed": true
   },
   "outputs": [],
   "source": [
    "import tensorflow as tf"
   ]
  },
  {
   "cell_type": "code",
   "execution_count": 2,
   "metadata": {
    "scrolled": true
   },
   "outputs": [
    {
     "name": "stderr",
     "output_type": "stream",
     "text": [
      "Using TensorFlow backend.\n"
     ]
    }
   ],
   "source": [
    "from drl.ddpg import DDPG\n",
    "from drl.exploration import OrnSteinUhlenbeckNoise, WhiteNoise, LinearDecay\n",
    "from drl.utilities import Statistics\n",
    "from drl.env.arm import TwoLinkArm"
   ]
  },
  {
   "cell_type": "code",
   "execution_count": null,
   "metadata": {
    "collapsed": true
   },
   "outputs": [],
   "source": [
    "ENV_NAME = \"TwoLinkArm\"\n",
    "ALGO_NAME = \"DDPG\"\n",
    "SAVE = False\n",
    "\n",
    "SETTINGS = {\n",
    "    'learning_rate_actor': 0.0001,\n",
    "    'learning_rate_critic': 0.001,\n",
    "    'gamma': 0.95,\n",
    "    'tau': 0.001,\n",
    "    'hidden_nodes': [500, 500],\n",
    "    'batch_norm': False,\n",
    "    'batch_size': 32,\n",
    "    'buffer_size': 10000,\n",
    "    'num_updates_iter': 1\n",
    "}"
   ]
  },
  {
   "cell_type": "code",
   "execution_count": null,
   "metadata": {
    "scrolled": false
   },
   "outputs": [
    {
     "name": "stdout",
     "output_type": "stream",
     "text": [
      "For visualizing run:\n",
      "  tensorboard --logdir=/home/bartkeulen/repositories/drl/notebooks/results/test/TwoLinkArm/DDPG/batch_size=32/learning_rate_actor=0.0001/tau=0.001/num_updates_iter=1/buffer_size=10000/learning_rate_critic=0.001/hidden_nodes=[500, 500]/batch_norm=False/gamma=0.95/0\n",
      "\n",
      "Summary actor network:\n",
      "_________________________________________________________________\n",
      "Layer (type)                 Output Shape              Param #   \n",
      "=================================================================\n",
      "observations (InputLayer)    (None, 7)                 0         \n",
      "_________________________________________________________________\n",
      "h0 (Dense)                   (None, 500)               4000      \n",
      "_________________________________________________________________\n",
      "h1 (Dense)                   (None, 500)               250500    \n",
      "_________________________________________________________________\n",
      "mu (Dense)                   (None, 2)                 1002      \n",
      "_________________________________________________________________\n",
      "lambda_1 (Lambda)            (None, 2)                 0         \n",
      "=================================================================\n",
      "Total params: 255,502\n",
      "Trainable params: 255,502\n",
      "Non-trainable params: 0\n",
      "_________________________________________________________________\n",
      "Summary critic network:\n",
      "____________________________________________________________________________________________________\n",
      "Layer (type)                     Output Shape          Param #     Connected to                     \n",
      "====================================================================================================\n",
      "observations (InputLayer)        (None, 7)             0                                            \n",
      "____________________________________________________________________________________________________\n",
      "h0 (Dense)                       (None, 500)           4000        observations[0][0]               \n",
      "____________________________________________________________________________________________________\n",
      "actions (InputLayer)             (None, 2)             0                                            \n",
      "____________________________________________________________________________________________________\n",
      "concatenate_1 (Concatenate)      (None, 502)           0           h0[0][0]                         \n",
      "                                                                   actions[0][0]                    \n",
      "____________________________________________________________________________________________________\n",
      "h1 (Dense)                       (None, 500)           251500      concatenate_1[0][0]              \n",
      "____________________________________________________________________________________________________\n",
      "Q (Dense)                        (None, 1)             501         h1[0][0]                         \n",
      "====================================================================================================\n",
      "Total params: 256,001\n",
      "Trainable params: 256,001\n",
      "Non-trainable params: 0\n",
      "____________________________________________________________________________________________________\n",
      "\n",
      "------------------ Start training ------------------\n",
      "\n",
      "| episode: 0 | steps: 200 | reward: -2927.14 | ave r: -14.636 | loss: 8.98 | time elapsed: 2 sec |\n"
     ]
    }
   ],
   "source": [
    "with tf.Session() as sess:\n",
    "    env = TwoLinkArm(g=0.)\n",
    "\n",
    "    stat = Statistics(sess, ENV_NAME, ALGO_NAME, DDPG.get_summary_tags(), settings=SETTINGS, save=SAVE)\n",
    "\n",
    "#     noise = OrnSteinUhlenbeckNoise(\n",
    "#         action_dim=env.action_dim,\n",
    "#         mu=0.,\n",
    "#         theta=0.05,\n",
    "#         sigma=0.05)\n",
    "    noise = WhiteNoise(env.action_dim, 0., 0.1)\n",
    "    noise = LinearDecay(noise, 100, 125)\n",
    "\n",
    "    ddpg = DDPG(sess=sess,\n",
    "                env=env,\n",
    "                stat=stat,\n",
    "                exploration=noise,\n",
    "                **SETTINGS)\n",
    "\n",
    "    ddpg.train(num_episodes=10000,\n",
    "               max_steps=200,\n",
    "               render_env=False)\n",
    "\n",
    "    sess.close()"
   ]
  }
 ],
 "metadata": {
  "kernelspec": {
   "display_name": "Environment (conda_drl)",
   "language": "python",
   "name": "conda_drl"
  },
  "language_info": {
   "codemirror_mode": {
    "name": "ipython",
    "version": 3
   },
   "file_extension": ".py",
   "mimetype": "text/x-python",
   "name": "python",
   "nbconvert_exporter": "python",
   "pygments_lexer": "ipython3",
   "version": "3.5.3"
  }
 },
 "nbformat": 4,
 "nbformat_minor": 2
}
