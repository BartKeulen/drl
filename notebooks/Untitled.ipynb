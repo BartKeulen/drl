{
 "cells": [
  {
   "cell_type": "code",
   "execution_count": 10,
   "metadata": {
    "collapsed": false
   },
   "outputs": [],
   "source": [
    "maze_structure = [[1, 1, 1], [1, 0, 1], [1, 1, 0]]\n",
    "\n",
    "height = len(maze_structure) * 4\n",
    "width = len(maze_structure[0]) * 4\n",
    "\n",
    "walls = []\n",
    "for i in range(len(maze_structure)):\n",
    "    for j in range(len(maze_structure[0])):\n",
    "        if maze_structure[i][j] == 1:\n",
    "            walls.append((j*4+2, height - i*4 - 2))"
   ]
  },
  {
   "cell_type": "code",
   "execution_count": 11,
   "metadata": {
    "collapsed": false
   },
   "outputs": [
    {
     "name": "stdout",
     "output_type": "stream",
     "text": [
      "[(2, 10), (6, 10), (10, 10), (2, 6), (10, 6), (2, 2), (6, 2)]\n"
     ]
    }
   ],
   "source": [
    "print(walls)"
   ]
  }
 ],
 "metadata": {
  "anaconda-cloud": {},
  "kernelspec": {
   "display_name": "Python [conda env:drl]",
   "language": "python",
   "name": "conda-env-drl-py"
  },
  "language_info": {
   "codemirror_mode": {
    "name": "ipython",
    "version": 3
   },
   "file_extension": ".py",
   "mimetype": "text/x-python",
   "name": "python",
   "nbconvert_exporter": "python",
   "pygments_lexer": "ipython3",
   "version": "3.5.2"
  }
 },
 "nbformat": 4,
 "nbformat_minor": 2
}
