{
 "cells": [
  {
   "cell_type": "code",
   "execution_count": 1,
   "metadata": {
    "collapsed": true
   },
   "outputs": [],
   "source": [
    "import numpy as np\n",
    "from drl.utilities import finite_difference\n",
    "\n",
    "x = np.random.randn(2, 4)\n",
    "u = np.random.randn(2, 2)\n",
    "\n",
    "fun = lambda xu: xu[:,:2]*xu[:,4:]"
   ]
  },
  {
   "cell_type": "code",
   "execution_count": 2,
   "metadata": {
    "scrolled": false
   },
   "outputs": [
    {
     "name": "stdout",
     "output_type": "stream",
     "text": [
      "\n",
      "\n",
      "\n",
      "[[-0.26775729  1.68457577  0.19311283  1.85309876 -0.14044003 -1.51844975]\n",
      " [-0.05208999  0.20063422  0.22146761  1.73297026 -0.46372612  1.33842052]]\n",
      "K, n:  (2, 6)\n",
      "H:  (12, 6)\n",
      "X:  (2, 12, 6)\n",
      "Y:  (2, 12, 2)\n"
     ]
    },
    {
     "data": {
      "text/plain": [
       "array([[[-0.14044003,  0.        ],\n",
       "        [ 0.        , -1.51844975],\n",
       "        [ 0.        ,  0.        ],\n",
       "        [ 0.        ,  0.        ],\n",
       "        [-0.26775729,  0.        ],\n",
       "        [ 0.        ,  1.68457577]],\n",
       "\n",
       "       [[-0.46372612,  0.        ],\n",
       "        [ 0.        ,  1.33842052],\n",
       "        [ 0.        ,  0.        ],\n",
       "        [ 0.        ,  0.        ],\n",
       "        [-0.05208999,  0.        ],\n",
       "        [ 0.        ,  0.20063422]]])"
      ]
     },
     "execution_count": 2,
     "metadata": {},
     "output_type": "execute_result"
    }
   ],
   "source": [
    "finite_difference(fun, np.hstack((x,u)))"
   ]
  }
 ],
 "metadata": {
  "kernelspec": {
   "display_name": "Environment (conda_drl)",
   "language": "python",
   "name": "conda_drl"
  },
  "language_info": {
   "codemirror_mode": {
    "name": "ipython",
    "version": 3
   },
   "file_extension": ".py",
   "mimetype": "text/x-python",
   "name": "python",
   "nbconvert_exporter": "python",
   "pygments_lexer": "ipython3",
   "version": "3.5.3"
  }
 },
 "nbformat": 4,
 "nbformat_minor": 2
}
