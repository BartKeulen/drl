{
 "cells": [
  {
   "cell_type": "code",
   "execution_count": 45,
   "metadata": {
    "collapsed": true
   },
   "outputs": [],
   "source": [
    "import numpy as np\n",
    "\n",
    "def fun(x):\n",
    "    return np.sum(x**2, axis=1)\n",
    "\n",
    "x = np.random.randn(5, 2)\n",
    "h = 1"
   ]
  },
  {
   "cell_type": "code",
   "execution_count": 46,
   "metadata": {},
   "outputs": [],
   "source": [
    "K, n = x.shape\n",
    "H = np.vstack((-h*np.eye(n), h*np.eye(n)))\n",
    "X = x[:, None, :] + H[None, :, :]\n",
    "Y = []\n",
    "for i in range(K):\n",
    "    Y.append(fun(X[i]))\n",
    "Y = np.array(Y)\n",
    "D = (Y[:, n:] - Y[:, 0:n])\n",
    "J = D/h/2"
   ]
  },
  {
   "cell_type": "code",
   "execution_count": 47,
   "metadata": {},
   "outputs": [
    {
     "name": "stdout",
     "output_type": "stream",
     "text": [
      "[[[-1.48952144  0.01208299]\n",
      "  [-0.48952144 -0.98791701]\n",
      "  [ 0.51047856  0.01208299]\n",
      "  [-0.48952144  1.01208299]]\n",
      "\n",
      " [[-2.09118805 -0.33622546]\n",
      "  [-1.09118805 -1.33622546]\n",
      "  [-0.09118805 -0.33622546]\n",
      "  [-1.09118805  0.66377454]]\n",
      "\n",
      " [[-0.32143729  1.15279005]\n",
      "  [ 0.67856271  0.15279005]\n",
      "  [ 1.67856271  1.15279005]\n",
      "  [ 0.67856271  2.15279005]]\n",
      "\n",
      " [[ 0.5623391   1.80288194]\n",
      "  [ 1.5623391   0.80288194]\n",
      "  [ 2.5623391   1.80288194]\n",
      "  [ 1.5623391   2.80288194]]\n",
      "\n",
      " [[-1.17462107 -1.49753911]\n",
      "  [-0.17462107 -2.49753911]\n",
      "  [ 0.82537893 -1.49753911]\n",
      "  [-0.17462107 -0.49753911]]]\n",
      "\n",
      "[ 2.21882011  1.21561126  0.26073436  1.26394322]\n",
      "\n",
      "[[  2.21882011   1.21561126   0.26073436   1.26394322]\n",
      " [  4.48611504   2.97618984   0.12136282   1.63128801]\n",
      " [  1.43224684   0.48379216   4.14649769   5.09495237]\n",
      " [  3.56660857   3.08552289   9.81596499  10.29705067]\n",
      " [  3.62235805   6.26819413   2.92387376   0.27803769]]\n",
      "\n",
      "[ 1.21561126  0.26073436  1.26394322]\n",
      "[ 2.21882011]\n",
      "[[-1.95808575  0.04833196]\n",
      " [-4.36475222 -1.34490183]\n",
      " [ 2.71425086  4.61116021]\n",
      " [ 6.24935642  7.21152778]\n",
      " [-0.69848429 -5.99015644]]\n",
      "[[-0.97904288  0.02416598]\n",
      " [-2.18237611 -0.67245092]\n",
      " [ 1.35712543  2.30558011]\n",
      " [ 3.12467821  3.60576389]\n",
      " [-0.34924215 -2.99507822]]\n"
     ]
    }
   ],
   "source": [
    "print(X)\n",
    "print(\"\")\n",
    "print(fun(X[0]))\n",
    "print(\"\")\n",
    "print(Y)\n",
    "print(\"\")\n",
    "print(Y[0, 1:])\n",
    "print(Y[0, 0:1])\n",
    "print(D)\n",
    "print(J)"
   ]
  },
  {
   "cell_type": "code",
   "execution_count": 30,
   "metadata": {},
   "outputs": [
    {
     "data": {
      "text/plain": [
       "array([ 9.05547696,  9.05547505,  9.05548885])"
      ]
     },
     "execution_count": 30,
     "metadata": {},
     "output_type": "execute_result"
    }
   ],
   "source": [
    "np.sum(X[0]**2, axis=1)"
   ]
  }
 ],
 "metadata": {
  "kernelspec": {
   "display_name": "Environment (conda_drl)",
   "language": "python",
   "name": "conda_drl"
  },
  "language_info": {
   "codemirror_mode": {
    "name": "ipython",
    "version": 3
   },
   "file_extension": ".py",
   "mimetype": "text/x-python",
   "name": "python",
   "nbconvert_exporter": "python",
   "pygments_lexer": "ipython3",
   "version": "3.5.3"
  }
 },
 "nbformat": 4,
 "nbformat_minor": 2
}
