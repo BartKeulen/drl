{
 "cells": [
  {
   "cell_type": "code",
   "execution_count": 42,
   "metadata": {
    "collapsed": true
   },
   "outputs": [],
   "source": [
    "import numpy as np\n",
    "from sklearn import linear_model"
   ]
  },
  {
   "cell_type": "code",
   "execution_count": 43,
   "metadata": {},
   "outputs": [
    {
     "data": {
      "text/plain": [
       "LinearRegression(copy_X=True, fit_intercept=True, n_jobs=1, normalize=False)"
      ]
     },
     "execution_count": 43,
     "metadata": {},
     "output_type": "execute_result"
    }
   ],
   "source": [
    "k = 20\n",
    "n = 4\n",
    "m = 2\n",
    "\n",
    "x = np.random.randn(k+1, n)\n",
    "u = np.random.randn(k, m)\n",
    "\n",
    "Y = x[1:,:]\n",
    "X = np.ones((k, n+m))\n",
    "X[:,:n] = x[:-1,:].copy()\n",
    "X[:,n:] = u.copy()\n",
    "\n",
    "regr = linear_model.LinearRegression()\n",
    "\n",
    "regr.fit(X, Y)"
   ]
  },
  {
   "cell_type": "code",
   "execution_count": 44,
   "metadata": {},
   "outputs": [
    {
     "name": "stdout",
     "output_type": "stream",
     "text": [
      "[[-0.10810856  0.16971065 -0.53428562  0.36952053  0.4285531  -0.94652769]\n",
      " [-0.20494069 -0.49207163  0.41899599  0.19284523  0.34929779  0.30053433]\n",
      " [-0.2932994  -0.26499607  0.21238407  0.01456724  0.37033315  0.13977884]\n",
      " [-0.17850806 -0.11582589 -0.05792805  0.18524144  0.36433666  0.11425907]]\n",
      "[-0.01036753  0.23140733  0.00551828 -0.37326779]\n",
      "0.345467075136\n"
     ]
    }
   ],
   "source": [
    "print(regr.coef_)\n",
    "print(regr.intercept_)\n",
    "print(regr.score(X, Y))"
   ]
  },
  {
   "cell_type": "code",
   "execution_count": 52,
   "metadata": {},
   "outputs": [
    {
     "name": "stdout",
     "output_type": "stream",
     "text": [
      "[[-0.93520718  0.43953176 -0.00835891 -0.84171422]\n",
      " [-1.12362099  0.86308369  0.80096951  0.12713858]]\n",
      "[[-0.93520718  0.43953176 -0.00835891 -0.84171422]\n",
      " [-1.12362099  0.86308369  0.80096951  0.12713858]]\n"
     ]
    }
   ],
   "source": [
    "print(regr.predict(X[:2,:]))\n",
    "\n",
    "print(np.dot(X[:2,:], regr.coef_.T) + regr.intercept_)"
   ]
  }
 ],
 "metadata": {
  "kernelspec": {
   "display_name": "Environment (conda_drl)",
   "language": "python",
   "name": "conda_drl"
  },
  "language_info": {
   "codemirror_mode": {
    "name": "ipython",
    "version": 3
   },
   "file_extension": ".py",
   "mimetype": "text/x-python",
   "name": "python",
   "nbconvert_exporter": "python",
   "pygments_lexer": "ipython3",
   "version": "3.5.3"
  }
 },
 "nbformat": 4,
 "nbformat_minor": 2
}
