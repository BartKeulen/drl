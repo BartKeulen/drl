{
 "cells": [
  {
   "cell_type": "code",
   "execution_count": 20,
   "metadata": {},
   "outputs": [],
   "source": [
    "from sympy import *\n",
    "from sympy.physics.vector import dynamicsymbols\n",
    "\n",
    "x1, y1, x2, y2, x3, y3, g, m1, l1, m2, l2, m3, l3 = symbols('x1 y1 x2 y2 x3 y3 g m1 l1 m2 l2 m3 l3')\n",
    "theta1, theta2, theta3 = dynamicsymbols('theta1 theta2 theta3')\n",
    "t = Symbol('t')"
   ]
  },
  {
   "cell_type": "code",
   "execution_count": 21,
   "metadata": {
    "collapsed": true
   },
   "outputs": [],
   "source": [
    "x1 = l1*sin(theta1)\n",
    "y1 = l1*cos(theta1)\n",
    "x2 = x1 + l2*sin(theta1 + theta2)\n",
    "y2 = y1 + l2*cos(theta1 + theta2)\n",
    "x3 = x2 + l3*sin(theta1 + theta2 + theta3)\n",
    "y3 = x2 + l3*cos(theta1 + theta2 + theta3)"
   ]
  },
  {
   "cell_type": "code",
   "execution_count": 22,
   "metadata": {},
   "outputs": [
    {
     "name": "stdout",
     "output_type": "stream",
     "text": [
      "l1**2*m1*sin(theta1(t))**2*Derivative(theta1(t), t)**2/2 + l1**2*m1*cos(theta1(t))**2*Derivative(theta1(t), t)**2/2 + l1**2*m2*sin(theta1(t))**2*Derivative(theta1(t), t)**2/2 + l1**2*m2*cos(theta1(t))**2*Derivative(theta1(t), t)**2/2 + m3*(l1*cos(theta1(t))*Derivative(theta1(t), t) + l2*(Derivative(theta1(t), t) + Derivative(theta2(t), t))*cos(theta1(t) + theta2(t)) - l3*(Derivative(theta1(t), t) + Derivative(theta2(t), t) + Derivative(theta3(t), t))*sin(theta1(t) + theta2(t) + theta3(t)))**2/2 + m3*(l1*cos(theta1(t))*Derivative(theta1(t), t) + l2*(Derivative(theta1(t), t) + Derivative(theta2(t), t))*cos(theta1(t) + theta2(t)) + l3*(Derivative(theta1(t), t) + Derivative(theta2(t), t) + Derivative(theta3(t), t))*cos(theta1(t) + theta2(t) + theta3(t)))**2/2\n"
     ]
    }
   ],
   "source": [
    "T = m1*diff(x1, t)**2/2 + m1*diff(y1, t)**2/2 + m2*diff(x1, t)**2/2 + m2*diff(y1, t)**2/2 + m3*diff(x3, t)**2/2 + m3*diff(y3, t)**2/2\n",
    "print(T)"
   ]
  },
  {
   "cell_type": "code",
   "execution_count": 23,
   "metadata": {},
   "outputs": [
    {
     "name": "stdout",
     "output_type": "stream",
     "text": [
      "g*l1*m1*cos(theta1(t)) + g*m2*(l1*cos(theta1(t)) + l2*cos(theta1(t) + theta2(t))) + g*m3*(l1*sin(theta1(t)) + l2*sin(theta1(t) + theta2(t)) + l3*cos(theta1(t) + theta2(t) + theta3(t)))\n"
     ]
    }
   ],
   "source": [
    "V = m1*g*y1 + m2*g*y2 + m3*g*y3\n",
    "print(V)"
   ]
  },
  {
   "cell_type": "code",
   "execution_count": 27,
   "metadata": {},
   "outputs": [],
   "source": [
    "L = T - V\n",
    "\n",
    "dLdtheta1dot = diff(diff(L, diff(theta1, t)), t)\n",
    "dLdtheta2dot = diff(diff(L, diff(theta2, t)), t)\n",
    "dLdtheta3dot = diff(diff(L, diff(theta3, t)), t)\n",
    "\n",
    "dLdtheta1 = diff(L, theta1)\n",
    "dLdtheta2 = diff(L, theta2)\n",
    "dLdtheta3 = diff(L, theta3)\n",
    "\n",
    "f1 = dLdtheta1dot - dLdtheta1\n",
    "f2 = dLdtheta2dot - dLdtheta2\n",
    "f3 = dLdtheta3dot - dLdtheta3"
   ]
  },
  {
   "cell_type": "code",
   "execution_count": 26,
   "metadata": {},
   "outputs": [
    {
     "name": "stdout",
     "output_type": "stream",
     "text": [
      "l1**2*m1*sin(theta1(t))**2*Derivative(theta1(t), t, t) + l1**2*m1*cos(theta1(t))**2*Derivative(theta1(t), t, t) + l1**2*m2*sin(theta1(t))**2*Derivative(theta1(t), t, t) + l1**2*m2*cos(theta1(t))**2*Derivative(theta1(t), t, t) - m3*(l1*cos(theta1(t)) + l2*cos(theta1(t) + theta2(t)) - l3*sin(theta1(t) + theta2(t) + theta3(t)))*(l1*sin(theta1(t))*Derivative(theta1(t), t)**2 - l1*cos(theta1(t))*Derivative(theta1(t), t, t) + l2*(Derivative(theta1(t), t) + Derivative(theta2(t), t))**2*sin(theta1(t) + theta2(t)) - l2*(Derivative(theta1(t), t, t) + Derivative(theta2(t), t, t))*cos(theta1(t) + theta2(t)) + l3*(Derivative(theta1(t), t) + Derivative(theta2(t), t) + Derivative(theta3(t), t))**2*cos(theta1(t) + theta2(t) + theta3(t)) + l3*(Derivative(theta1(t), t, t) + Derivative(theta2(t), t, t) + Derivative(theta3(t), t, t))*sin(theta1(t) + theta2(t) + theta3(t))) - m3*(l1*cos(theta1(t)) + l2*cos(theta1(t) + theta2(t)) + l3*cos(theta1(t) + theta2(t) + theta3(t)))*(l1*sin(theta1(t))*Derivative(theta1(t), t)**2 - l1*cos(theta1(t))*Derivative(theta1(t), t, t) + l2*(Derivative(theta1(t), t) + Derivative(theta2(t), t))**2*sin(theta1(t) + theta2(t)) - l2*(Derivative(theta1(t), t, t) + Derivative(theta2(t), t, t))*cos(theta1(t) + theta2(t)) + l3*(Derivative(theta1(t), t) + Derivative(theta2(t), t) + Derivative(theta3(t), t))**2*sin(theta1(t) + theta2(t) + theta3(t)) - l3*(Derivative(theta1(t), t, t) + Derivative(theta2(t), t, t) + Derivative(theta3(t), t, t))*cos(theta1(t) + theta2(t) + theta3(t))) - m3*(l1*sin(theta1(t))*Derivative(theta1(t), t) + l2*(Derivative(theta1(t), t) + Derivative(theta2(t), t))*sin(theta1(t) + theta2(t)) + l3*(Derivative(theta1(t), t) + Derivative(theta2(t), t) + Derivative(theta3(t), t))*sin(theta1(t) + theta2(t) + theta3(t)))*(l1*cos(theta1(t))*Derivative(theta1(t), t) + l2*(Derivative(theta1(t), t) + Derivative(theta2(t), t))*cos(theta1(t) + theta2(t)) + l3*(Derivative(theta1(t), t) + Derivative(theta2(t), t) + Derivative(theta3(t), t))*cos(theta1(t) + theta2(t) + theta3(t))) - m3*(l1*sin(theta1(t))*Derivative(theta1(t), t) + l2*(Derivative(theta1(t), t) + Derivative(theta2(t), t))*sin(theta1(t) + theta2(t)) + l3*(Derivative(theta1(t), t) + Derivative(theta2(t), t) + Derivative(theta3(t), t))*cos(theta1(t) + theta2(t) + theta3(t)))*(l1*cos(theta1(t))*Derivative(theta1(t), t) + l2*(Derivative(theta1(t), t) + Derivative(theta2(t), t))*cos(theta1(t) + theta2(t)) - l3*(Derivative(theta1(t), t) + Derivative(theta2(t), t) + Derivative(theta3(t), t))*sin(theta1(t) + theta2(t) + theta3(t)))\n",
      "\n",
      "-m3*((l2*cos(theta1(t) + theta2(t)) - l3*sin(theta1(t) + theta2(t) + theta3(t)))*(l1*sin(theta1(t))*Derivative(theta1(t), t)**2 - l1*cos(theta1(t))*Derivative(theta1(t), t, t) + l2*(Derivative(theta1(t), t) + Derivative(theta2(t), t))**2*sin(theta1(t) + theta2(t)) - l2*(Derivative(theta1(t), t, t) + Derivative(theta2(t), t, t))*cos(theta1(t) + theta2(t)) + l3*(Derivative(theta1(t), t) + Derivative(theta2(t), t) + Derivative(theta3(t), t))**2*cos(theta1(t) + theta2(t) + theta3(t)) + l3*(Derivative(theta1(t), t, t) + Derivative(theta2(t), t, t) + Derivative(theta3(t), t, t))*sin(theta1(t) + theta2(t) + theta3(t))) + (l2*cos(theta1(t) + theta2(t)) + l3*cos(theta1(t) + theta2(t) + theta3(t)))*(l1*sin(theta1(t))*Derivative(theta1(t), t)**2 - l1*cos(theta1(t))*Derivative(theta1(t), t, t) + l2*(Derivative(theta1(t), t) + Derivative(theta2(t), t))**2*sin(theta1(t) + theta2(t)) - l2*(Derivative(theta1(t), t, t) + Derivative(theta2(t), t, t))*cos(theta1(t) + theta2(t)) + l3*(Derivative(theta1(t), t) + Derivative(theta2(t), t) + Derivative(theta3(t), t))**2*sin(theta1(t) + theta2(t) + theta3(t)) - l3*(Derivative(theta1(t), t, t) + Derivative(theta2(t), t, t) + Derivative(theta3(t), t, t))*cos(theta1(t) + theta2(t) + theta3(t))) + (l2*(Derivative(theta1(t), t) + Derivative(theta2(t), t))*sin(theta1(t) + theta2(t)) + l3*(Derivative(theta1(t), t) + Derivative(theta2(t), t) + Derivative(theta3(t), t))*sin(theta1(t) + theta2(t) + theta3(t)))*(l1*cos(theta1(t))*Derivative(theta1(t), t) + l2*(Derivative(theta1(t), t) + Derivative(theta2(t), t))*cos(theta1(t) + theta2(t)) + l3*(Derivative(theta1(t), t) + Derivative(theta2(t), t) + Derivative(theta3(t), t))*cos(theta1(t) + theta2(t) + theta3(t))) + (l2*(Derivative(theta1(t), t) + Derivative(theta2(t), t))*sin(theta1(t) + theta2(t)) + l3*(Derivative(theta1(t), t) + Derivative(theta2(t), t) + Derivative(theta3(t), t))*cos(theta1(t) + theta2(t) + theta3(t)))*(l1*cos(theta1(t))*Derivative(theta1(t), t) + l2*(Derivative(theta1(t), t) + Derivative(theta2(t), t))*cos(theta1(t) + theta2(t)) - l3*(Derivative(theta1(t), t) + Derivative(theta2(t), t) + Derivative(theta3(t), t))*sin(theta1(t) + theta2(t) + theta3(t))))\n",
      "\n",
      "-m3*((l2*cos(theta1(t) + theta2(t)) - l3*sin(theta1(t) + theta2(t) + theta3(t)))*(l1*sin(theta1(t))*Derivative(theta1(t), t)**2 - l1*cos(theta1(t))*Derivative(theta1(t), t, t) + l2*(Derivative(theta1(t), t) + Derivative(theta2(t), t))**2*sin(theta1(t) + theta2(t)) - l2*(Derivative(theta1(t), t, t) + Derivative(theta2(t), t, t))*cos(theta1(t) + theta2(t)) + l3*(Derivative(theta1(t), t) + Derivative(theta2(t), t) + Derivative(theta3(t), t))**2*cos(theta1(t) + theta2(t) + theta3(t)) + l3*(Derivative(theta1(t), t, t) + Derivative(theta2(t), t, t) + Derivative(theta3(t), t, t))*sin(theta1(t) + theta2(t) + theta3(t))) + (l2*cos(theta1(t) + theta2(t)) + l3*cos(theta1(t) + theta2(t) + theta3(t)))*(l1*sin(theta1(t))*Derivative(theta1(t), t)**2 - l1*cos(theta1(t))*Derivative(theta1(t), t, t) + l2*(Derivative(theta1(t), t) + Derivative(theta2(t), t))**2*sin(theta1(t) + theta2(t)) - l2*(Derivative(theta1(t), t, t) + Derivative(theta2(t), t, t))*cos(theta1(t) + theta2(t)) + l3*(Derivative(theta1(t), t) + Derivative(theta2(t), t) + Derivative(theta3(t), t))**2*sin(theta1(t) + theta2(t) + theta3(t)) - l3*(Derivative(theta1(t), t, t) + Derivative(theta2(t), t, t) + Derivative(theta3(t), t, t))*cos(theta1(t) + theta2(t) + theta3(t))) + (l2*(Derivative(theta1(t), t) + Derivative(theta2(t), t))*sin(theta1(t) + theta2(t)) + l3*(Derivative(theta1(t), t) + Derivative(theta2(t), t) + Derivative(theta3(t), t))*sin(theta1(t) + theta2(t) + theta3(t)))*(l1*cos(theta1(t))*Derivative(theta1(t), t) + l2*(Derivative(theta1(t), t) + Derivative(theta2(t), t))*cos(theta1(t) + theta2(t)) + l3*(Derivative(theta1(t), t) + Derivative(theta2(t), t) + Derivative(theta3(t), t))*cos(theta1(t) + theta2(t) + theta3(t))) + (l2*(Derivative(theta1(t), t) + Derivative(theta2(t), t))*sin(theta1(t) + theta2(t)) + l3*(Derivative(theta1(t), t) + Derivative(theta2(t), t) + Derivative(theta3(t), t))*cos(theta1(t) + theta2(t) + theta3(t)))*(l1*cos(theta1(t))*Derivative(theta1(t), t) + l2*(Derivative(theta1(t), t) + Derivative(theta2(t), t))*cos(theta1(t) + theta2(t)) - l3*(Derivative(theta1(t), t) + Derivative(theta2(t), t) + Derivative(theta3(t), t))*sin(theta1(t) + theta2(t) + theta3(t))))\n",
      "\n",
      "g*l1*m1*sin(theta1(t)) + g*m2*(l1*sin(theta1(t)) + l2*sin(theta1(t) + theta2(t))) - g*m3*(l1*cos(theta1(t)) + l2*cos(theta1(t) + theta2(t)) - l3*sin(theta1(t) + theta2(t) + theta3(t))) - m3*(l1*sin(theta1(t))*Derivative(theta1(t), t) + l2*(Derivative(theta1(t), t) + Derivative(theta2(t), t))*sin(theta1(t) + theta2(t)) + l3*(Derivative(theta1(t), t) + Derivative(theta2(t), t) + Derivative(theta3(t), t))*sin(theta1(t) + theta2(t) + theta3(t)))*(l1*cos(theta1(t))*Derivative(theta1(t), t) + l2*(Derivative(theta1(t), t) + Derivative(theta2(t), t))*cos(theta1(t) + theta2(t)) + l3*(Derivative(theta1(t), t) + Derivative(theta2(t), t) + Derivative(theta3(t), t))*cos(theta1(t) + theta2(t) + theta3(t))) - m3*(l1*sin(theta1(t))*Derivative(theta1(t), t) + l2*(Derivative(theta1(t), t) + Derivative(theta2(t), t))*sin(theta1(t) + theta2(t)) + l3*(Derivative(theta1(t), t) + Derivative(theta2(t), t) + Derivative(theta3(t), t))*cos(theta1(t) + theta2(t) + theta3(t)))*(l1*cos(theta1(t))*Derivative(theta1(t), t) + l2*(Derivative(theta1(t), t) + Derivative(theta2(t), t))*cos(theta1(t) + theta2(t)) - l3*(Derivative(theta1(t), t) + Derivative(theta2(t), t) + Derivative(theta3(t), t))*sin(theta1(t) + theta2(t) + theta3(t)))\n",
      "\n",
      "g*l2*m2*sin(theta1(t) + theta2(t)) - g*m3*(l2*cos(theta1(t) + theta2(t)) - l3*sin(theta1(t) + theta2(t) + theta3(t))) - m3*(l2*(Derivative(theta1(t), t) + Derivative(theta2(t), t))*sin(theta1(t) + theta2(t)) + l3*(Derivative(theta1(t), t) + Derivative(theta2(t), t) + Derivative(theta3(t), t))*sin(theta1(t) + theta2(t) + theta3(t)))*(l1*cos(theta1(t))*Derivative(theta1(t), t) + l2*(Derivative(theta1(t), t) + Derivative(theta2(t), t))*cos(theta1(t) + theta2(t)) + l3*(Derivative(theta1(t), t) + Derivative(theta2(t), t) + Derivative(theta3(t), t))*cos(theta1(t) + theta2(t) + theta3(t))) - m3*(l2*(Derivative(theta1(t), t) + Derivative(theta2(t), t))*sin(theta1(t) + theta2(t)) + l3*(Derivative(theta1(t), t) + Derivative(theta2(t), t) + Derivative(theta3(t), t))*cos(theta1(t) + theta2(t) + theta3(t)))*(l1*cos(theta1(t))*Derivative(theta1(t), t) + l2*(Derivative(theta1(t), t) + Derivative(theta2(t), t))*cos(theta1(t) + theta2(t)) - l3*(Derivative(theta1(t), t) + Derivative(theta2(t), t) + Derivative(theta3(t), t))*sin(theta1(t) + theta2(t) + theta3(t)))\n",
      "\n"
     ]
    },
    {
     "name": "stdout",
     "output_type": "stream",
     "text": [
      "l3*m3*(g*sin(theta1(t) + theta2(t) + theta3(t)) - (l1*cos(theta1(t))*Derivative(theta1(t), t) + l2*(Derivative(theta1(t), t) + Derivative(theta2(t), t))*cos(theta1(t) + theta2(t)) - l3*(Derivative(theta1(t), t) + Derivative(theta2(t), t) + Derivative(theta3(t), t))*sin(theta1(t) + theta2(t) + theta3(t)))*(Derivative(theta1(t), t) + Derivative(theta2(t), t) + Derivative(theta3(t), t))*cos(theta1(t) + theta2(t) + theta3(t)) - (l1*cos(theta1(t))*Derivative(theta1(t), t) + l2*(Derivative(theta1(t), t) + Derivative(theta2(t), t))*cos(theta1(t) + theta2(t)) + l3*(Derivative(theta1(t), t) + Derivative(theta2(t), t) + Derivative(theta3(t), t))*cos(theta1(t) + theta2(t) + theta3(t)))*(Derivative(theta1(t), t) + Derivative(theta2(t), t) + Derivative(theta3(t), t))*sin(theta1(t) + theta2(t) + theta3(t)))\n",
      "\n"
     ]
    }
   ],
   "source": [
    "print(simplify(dLdtheta1dot))\n",
    "print(\"\")\n",
    "print(simplify(dLdtheta2dot))\n",
    "print(\"\")\n",
    "print(simplify(dLdtheta2dot))\n",
    "print(\"\")\n",
    "print(simplify(dLdtheta1))\n",
    "print(\"\")\n",
    "print(simplify(dLdtheta2))\n",
    "print(\"\")\n",
    "print(simplify(dLdtheta3))\n",
    "print(\"\")"
   ]
  },
  {
   "cell_type": "code",
   "execution_count": 29,
   "metadata": {
    "scrolled": true
   },
   "outputs": [
    {
     "name": "stdout",
     "output_type": "stream",
     "text": [
      "l1**2*m1*sin(theta1(t))**2 + l1**2*m1*cos(theta1(t))**2 + l1**2*m2*sin(theta1(t))**2 + l1**2*m2*cos(theta1(t))**2 + m3*(l1*cos(theta1(t)) + l2*cos(theta1(t) + theta2(t)) - l3*sin(theta1(t) + theta2(t) + theta3(t)))*(2*l1*cos(theta1(t)) + 2*l2*cos(theta1(t) + theta2(t)) - 2*l3*sin(theta1(t) + theta2(t) + theta3(t)))/2 + m3*(l1*cos(theta1(t)) + l2*cos(theta1(t) + theta2(t)) + l3*cos(theta1(t) + theta2(t) + theta3(t)))*(2*l1*cos(theta1(t)) + 2*l2*cos(theta1(t) + theta2(t)) + 2*l3*cos(theta1(t) + theta2(t) + theta3(t)))/2\n",
      "\n",
      "m3*(l2*cos(theta1(t) + theta2(t)) - l3*sin(theta1(t) + theta2(t) + theta3(t)))*(2*l1*cos(theta1(t)) + 2*l2*cos(theta1(t) + theta2(t)) - 2*l3*sin(theta1(t) + theta2(t) + theta3(t)))/2 + m3*(l2*cos(theta1(t) + theta2(t)) + l3*cos(theta1(t) + theta2(t) + theta3(t)))*(2*l1*cos(theta1(t)) + 2*l2*cos(theta1(t) + theta2(t)) + 2*l3*cos(theta1(t) + theta2(t) + theta3(t)))/2\n",
      "\n",
      "-l3*m3*(2*l1*cos(theta1(t)) + 2*l2*cos(theta1(t) + theta2(t)) - 2*l3*sin(theta1(t) + theta2(t) + theta3(t)))*sin(theta1(t) + theta2(t) + theta3(t))/2 + l3*m3*(2*l1*cos(theta1(t)) + 2*l2*cos(theta1(t) + theta2(t)) + 2*l3*cos(theta1(t) + theta2(t) + theta3(t)))*cos(theta1(t) + theta2(t) + theta3(t))/2\n",
      "\n"
     ]
    }
   ],
   "source": [
    "print(diff(f1, diff(diff(theta1, t), t)))\n",
    "print(\"\")\n",
    "print(diff(f1, diff(diff(theta2, t), t)))\n",
    "print(\"\")\n",
    "print(diff(f1, diff(diff(theta3, t), t)))\n",
    "print(\"\")"
   ]
  }
 ],
 "metadata": {
  "kernelspec": {
   "display_name": "Environment (conda_drl)",
   "language": "python",
   "name": "conda_drl"
  },
  "language_info": {
   "codemirror_mode": {
    "name": "ipython",
    "version": 3
   },
   "file_extension": ".py",
   "mimetype": "text/x-python",
   "name": "python",
   "nbconvert_exporter": "python",
   "pygments_lexer": "ipython3",
   "version": "3.5.3"
  }
 },
 "nbformat": 4,
 "nbformat_minor": 2
}
