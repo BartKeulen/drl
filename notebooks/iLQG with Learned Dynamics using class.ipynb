{
 "cells": [
  {
   "cell_type": "markdown",
   "metadata": {},
   "source": [
    "## IMPORTANT:\n",
    "initial trajectory is important for final solution, with good initial trajectory it finds solution really easy. This suggests to use the old trajectory initial input to iLQG algorithm"
   ]
  },
  {
   "cell_type": "code",
   "execution_count": 1,
   "metadata": {
    "collapsed": true
   },
   "outputs": [],
   "source": [
    "import numpy as np\n",
    "from drl.ilqg import ilqg, LearnedDynamics\n",
    "from drl.env.arm import TwoLinkArm\n",
    "\n",
    "env = TwoLinkArm(g=0., wp=10., wv=1., wu=0.001)\n",
    "\n",
    "N = 5 # number of future steps for iLQG\n",
    "Nf = 2 # number of time-steps ahead and after current time-step for fitting linear model\n",
    "num_episodes = 25\n",
    "max_steps = 50\n",
    "\n",
    "model = LearnedDynamics(max_steps, num_episodes, env.state_dim, env.action_dim, Nf)"
   ]
  },
  {
   "cell_type": "code",
   "execution_count": 2,
   "metadata": {
    "collapsed": true
   },
   "outputs": [],
   "source": [
    "def dyn(x, u):\n",
    "    return model.dynamics_function(x, u)"
   ]
  },
  {
   "cell_type": "code",
   "execution_count": 3,
   "metadata": {
    "collapsed": true
   },
   "outputs": [],
   "source": [
    "def cst(x, u):\n",
    "    return env.cost_func(x, u)"
   ]
  },
  {
   "cell_type": "code",
   "execution_count": 4,
   "metadata": {},
   "outputs": [
    {
     "name": "stdout",
     "output_type": "stream",
     "text": [
      "Iter 0, Steps 50, Reward: -1124.38, Average reward: -22.95\n",
      "Iter 1, Steps 50, Reward: -482.25, Average reward: -9.64\n",
      "Iter 2, Steps 36, Reward: -392.69, Average reward: -10.91\n",
      "Iter 3, Steps 32, Reward: -366.56, Average reward: -11.45\n",
      "Iter 4, Steps 31, Reward: -345.51, Average reward: -11.15\n",
      "Iter 5, Steps 30, Reward: -342.96, Average reward: -11.43\n",
      "Iter 6, Steps 29, Reward: -320.07, Average reward: -11.04\n",
      "Iter 7, Steps 27, Reward: -314.40, Average reward: -11.64\n",
      "Iter 8, Steps 28, Reward: -316.13, Average reward: -11.29\n",
      "Iter 9, Steps 27, Reward: -320.48, Average reward: -11.87\n",
      "Iter 10, Steps 27, Reward: -326.11, Average reward: -12.08\n",
      "Iter 11, Steps 27, Reward: -320.82, Average reward: -11.88\n"
     ]
    },
    {
     "name": "stderr",
     "output_type": "stream",
     "text": [
      "[2017-06-14 12:56:22,542] \n",
      "EXIT: Maximum iterations reached.\n",
      "\n"
     ]
    },
    {
     "name": "stdout",
     "output_type": "stream",
     "text": [
      "Iter 12, Steps 27, Reward: -321.24, Average reward: -11.90\n"
     ]
    },
    {
     "name": "stderr",
     "output_type": "stream",
     "text": [
      "[2017-06-14 12:56:26,918] \n",
      "EXIT: Maximum iterations reached.\n",
      "\n"
     ]
    },
    {
     "name": "stdout",
     "output_type": "stream",
     "text": [
      "Iter 13, Steps 27, Reward: -322.53, Average reward: -11.95\n"
     ]
    },
    {
     "name": "stderr",
     "output_type": "stream",
     "text": [
      "[2017-06-14 12:56:31,279] \n",
      "EXIT: Maximum iterations reached.\n",
      "\n"
     ]
    },
    {
     "name": "stdout",
     "output_type": "stream",
     "text": [
      "Iter 14, Steps 27, Reward: -323.75, Average reward: -11.99\n"
     ]
    },
    {
     "name": "stderr",
     "output_type": "stream",
     "text": [
      "[2017-06-14 12:56:35,679] \n",
      "EXIT: Maximum iterations reached.\n",
      "\n"
     ]
    },
    {
     "name": "stdout",
     "output_type": "stream",
     "text": [
      "Iter 15, Steps 27, Reward: -324.51, Average reward: -12.02\n"
     ]
    },
    {
     "name": "stderr",
     "output_type": "stream",
     "text": [
      "[2017-06-14 12:56:39,939] \n",
      "EXIT: Maximum iterations reached.\n",
      "\n"
     ]
    },
    {
     "name": "stdout",
     "output_type": "stream",
     "text": [
      "Iter 16, Steps 27, Reward: -325.19, Average reward: -12.04\n"
     ]
    },
    {
     "name": "stderr",
     "output_type": "stream",
     "text": [
      "[2017-06-14 12:56:44,367] \n",
      "EXIT: Maximum iterations reached.\n",
      "\n"
     ]
    },
    {
     "name": "stdout",
     "output_type": "stream",
     "text": [
      "Iter 17, Steps 28, Reward: -326.01, Average reward: -11.64\n"
     ]
    },
    {
     "name": "stderr",
     "output_type": "stream",
     "text": [
      "[2017-06-14 12:56:48,976] \n",
      "EXIT: Maximum iterations reached.\n",
      "\n"
     ]
    },
    {
     "name": "stdout",
     "output_type": "stream",
     "text": [
      "Iter 18, Steps 28, Reward: -326.51, Average reward: -11.66\n"
     ]
    },
    {
     "name": "stderr",
     "output_type": "stream",
     "text": [
      "[2017-06-14 12:56:53,372] \n",
      "EXIT: Maximum iterations reached.\n",
      "\n"
     ]
    },
    {
     "name": "stdout",
     "output_type": "stream",
     "text": [
      "Iter 19, Steps 28, Reward: -326.92, Average reward: -11.68\n"
     ]
    },
    {
     "name": "stderr",
     "output_type": "stream",
     "text": [
      "[2017-06-14 12:56:57,786] \n",
      "EXIT: Maximum iterations reached.\n",
      "\n"
     ]
    },
    {
     "name": "stdout",
     "output_type": "stream",
     "text": [
      "Iter 20, Steps 28, Reward: -327.40, Average reward: -11.69\n"
     ]
    },
    {
     "name": "stderr",
     "output_type": "stream",
     "text": [
      "[2017-06-14 12:57:02,363] \n",
      "EXIT: Maximum iterations reached.\n",
      "\n"
     ]
    },
    {
     "name": "stdout",
     "output_type": "stream",
     "text": [
      "Iter 21, Steps 28, Reward: -327.45, Average reward: -11.69\n"
     ]
    },
    {
     "name": "stderr",
     "output_type": "stream",
     "text": [
      "[2017-06-14 12:57:06,768] \n",
      "EXIT: Maximum iterations reached.\n",
      "\n"
     ]
    },
    {
     "name": "stdout",
     "output_type": "stream",
     "text": [
      "Iter 22, Steps 28, Reward: -327.91, Average reward: -11.71\n"
     ]
    },
    {
     "name": "stderr",
     "output_type": "stream",
     "text": [
      "[2017-06-14 12:57:11,284] \n",
      "EXIT: Maximum iterations reached.\n",
      "\n"
     ]
    },
    {
     "name": "stdout",
     "output_type": "stream",
     "text": [
      "Iter 23, Steps 28, Reward: -328.19, Average reward: -11.72\n"
     ]
    },
    {
     "name": "stderr",
     "output_type": "stream",
     "text": [
      "[2017-06-14 12:57:15,893] \n",
      "EXIT: Maximum iterations reached.\n",
      "\n"
     ]
    },
    {
     "name": "stdout",
     "output_type": "stream",
     "text": [
      "Iter 24, Steps 28, Reward: -328.46, Average reward: -11.73\n"
     ]
    }
   ],
   "source": [
    "x = x0 = env.reset()\n",
    "goal = env.goal\n",
    "\n",
    "# Initialize random control sequence\n",
    "u = np.random.randn(max_steps, env.action_dim)\n",
    "\n",
    "# Simulate system once\n",
    "reward = 0.\n",
    "for i_step in range(max_steps):\n",
    "    env.render()\n",
    "    x_new, r, t, _ = env.step(u[i_step,:]) \n",
    "    \n",
    "    model.add(0, i_step, x, u[i_step,:], x_new)\n",
    "    \n",
    "    x = x_new    \n",
    "    reward += r\n",
    "print('Iter %d, Steps %d, Reward: %.2f, Average reward: %.2f' % (0, i_step+1, reward, reward/i_step))\n",
    "\n",
    "# Only use first N control inputs for iLQG estimator\n",
    "u = u[:N,:]\n",
    "    \n",
    "for i_episode in range(1, num_episodes):\n",
    "    # Fit models\n",
    "    model.fit()\n",
    "    \n",
    "    x = env.reset(x0, goal)\n",
    "    terminal = False\n",
    "    i_step = 0\n",
    "    reward = 0.\n",
    "    \n",
    "    for i_step in range(max_steps):\n",
    "        env.render()\n",
    "        \n",
    "        model.set_cur_step(i_step)\n",
    "\n",
    "        _, u, L, Vx, Vxx, cost = ilqg(dyn, cst, x, u, {})\n",
    "                \n",
    "        # Take step\n",
    "        x_new, r, t, _ = env.step(u[0, :])\n",
    "\n",
    "        # Add to data matrices\n",
    "        model.add(i_episode, i_step, x, u[0, :], x_new)\n",
    "        \n",
    "        u = np.concatenate((u[1:,:], np.random.randn(1, env.action_dim))) \n",
    "        \n",
    "        x = x_new\n",
    "        reward += r\n",
    "        i_step += 1\n",
    "        \n",
    "        if t:\n",
    "            break\n",
    "    \n",
    "    print('Iter %d, Steps %d, Reward: %.2f, Average reward: %.2f' % (i_episode, i_step, reward, reward/i_step))"
   ]
  },
  {
   "cell_type": "code",
   "execution_count": 5,
   "metadata": {
    "collapsed": true
   },
   "outputs": [],
   "source": [
    "env.render(close=True)"
   ]
  }
 ],
 "metadata": {
  "kernelspec": {
   "display_name": "Environment (conda_drl)",
   "language": "python",
   "name": "conda_drl"
  },
  "language_info": {
   "codemirror_mode": {
    "name": "ipython",
    "version": 3
   },
   "file_extension": ".py",
   "mimetype": "text/x-python",
   "name": "python",
   "nbconvert_exporter": "python",
   "pygments_lexer": "ipython3",
   "version": "3.5.3"
  }
 },
 "nbformat": 4,
 "nbformat_minor": 2
}
