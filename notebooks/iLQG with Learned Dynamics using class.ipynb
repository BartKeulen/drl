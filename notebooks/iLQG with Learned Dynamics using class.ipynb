{
 "cells": [
  {
   "cell_type": "markdown",
   "metadata": {},
   "source": [
    "## IMPORTANT:\n",
    "initial trajectory is important for final solution, with good initial trajectory it finds solution really easy. This suggests to use the old trajectory initial input to iLQG algorithm"
   ]
  },
  {
   "cell_type": "code",
   "execution_count": 1,
   "metadata": {},
   "outputs": [],
   "source": [
    "import numpy as np\n",
    "from drl.ilqg import ilqg, LearnedDynamics\n",
    "from drl.env.arm import TwoLinkArm\n",
    "\n",
    "env = TwoLinkArm(g=0., wp=10., wv=1., wu=0.001)\n",
    "\n",
    "N = 5 # number of future steps for iLQG\n",
    "Nf = 2 # number of time-steps for fitting linear model\n",
    "num_episodes = 25\n",
    "max_steps = 50\n",
    "\n",
    "model = LearnedDynamics(max_steps, num_episodes, env.state_dim, env.action_dim, Nf)"
   ]
  },
  {
   "cell_type": "code",
   "execution_count": 2,
   "metadata": {
    "collapsed": true
   },
   "outputs": [],
   "source": [
    "def dyn(x, u):\n",
    "    return model.dynamics_function(x, u)"
   ]
  },
  {
   "cell_type": "code",
   "execution_count": null,
   "metadata": {
    "collapsed": true
   },
   "outputs": [],
   "source": [
    "def cst(x, u):\n",
    "    return env.cost_func(x, u)"
   ]
  },
  {
   "cell_type": "code",
   "execution_count": null,
   "metadata": {},
   "outputs": [
    {
     "name": "stdout",
     "output_type": "stream",
     "text": [
      "Iter 0, Steps 50, Reward: -964.94, Average reward: -19.69\n",
      "Iter 1, Steps 50, Reward: -707.18, Average reward: -14.14\n",
      "Iter 2, Steps 50, Reward: -628.82, Average reward: -12.58\n",
      "Iter 3, Steps 50, Reward: -502.47, Average reward: -10.05\n",
      "Iter 4, Steps 46, Reward: -494.14, Average reward: -10.74\n",
      "Iter 5, Steps 45, Reward: -399.01, Average reward: -8.87\n",
      "Iter 6, Steps 49, Reward: -531.17, Average reward: -10.84\n",
      "Iter 7, Steps 43, Reward: -464.95, Average reward: -10.81\n",
      "Iter 8, Steps 41, Reward: -445.60, Average reward: -10.87\n",
      "Iter 9, Steps 41, Reward: -433.47, Average reward: -10.57\n",
      "Iter 10, Steps 40, Reward: -426.27, Average reward: -10.66\n"
     ]
    }
   ],
   "source": [
    "x = x0 = env.reset()\n",
    "goal = env.goal\n",
    "\n",
    "# Initialize random control sequence\n",
    "u = np.random.randn(max_steps, env.action_dim)\n",
    "\n",
    "# Simulate system once\n",
    "reward = 0.\n",
    "for i_step in range(max_steps):\n",
    "    env.render()\n",
    "    x_new, r, t, _ = env.step(u[i_step,:]) \n",
    "    \n",
    "    model.add(0, i_step, x, u[i_step,:], x_new)\n",
    "    \n",
    "    x = x_new    \n",
    "    reward += r\n",
    "print('Iter %d, Steps %d, Reward: %.2f, Average reward: %.2f' % (0, i_step+1, reward, reward/i_step))\n",
    "\n",
    "# Only use first N control inputs for iLQG estimator\n",
    "u = u[:N,:]\n",
    "    \n",
    "for i_episode in range(1, num_episodes):\n",
    "    # Fit models\n",
    "    model.fit()\n",
    "    \n",
    "    x = env.reset(x0, goal)\n",
    "    terminal = False\n",
    "    i_step = 0\n",
    "    reward = 0.\n",
    "    \n",
    "    for i_step in range(max_steps):\n",
    "        env.render()\n",
    "        \n",
    "        model.set_cur_step(i_step)\n",
    "\n",
    "        _, u, L, Vx, Vxx, cost = ilqg(dyn, cst, x, u, {})\n",
    "                \n",
    "        # Take step\n",
    "        x_new, r, t, _ = env.step(u[0, :])\n",
    "\n",
    "        # Add to data matrices\n",
    "        model.add(i_episode, i_step, x, u[0, :], x_new)\n",
    "        \n",
    "        u = np.concatenate((u[1:,:], np.random.randn(1, env.action_dim))) \n",
    "        \n",
    "        x = x_new\n",
    "        reward += r\n",
    "        i_step += 1\n",
    "        \n",
    "        if t:\n",
    "            break\n",
    "    \n",
    "    print('Iter %d, Steps %d, Reward: %.2f, Average reward: %.2f' % (i_episode, i_step, reward, reward/i_step))"
   ]
  },
  {
   "cell_type": "code",
   "execution_count": null,
   "metadata": {
    "collapsed": true
   },
   "outputs": [],
   "source": [
    "env.render(close=True)"
   ]
  }
 ],
 "metadata": {
  "kernelspec": {
   "display_name": "Environment (conda_drl)",
   "language": "python",
   "name": "conda_drl"
  },
  "language_info": {
   "codemirror_mode": {
    "name": "ipython",
    "version": 3
   },
   "file_extension": ".py",
   "mimetype": "text/x-python",
   "name": "python",
   "nbconvert_exporter": "python",
   "pygments_lexer": "ipython3",
   "version": "3.5.3"
  }
 },
 "nbformat": 4,
 "nbformat_minor": 2
}
