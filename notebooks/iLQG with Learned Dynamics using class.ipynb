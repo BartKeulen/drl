{
 "cells": [
  {
   "cell_type": "markdown",
   "metadata": {},
   "source": [
    "## IMPORTANT:\n",
    "initial trajectory is important for final solution, with good initial trajectory it finds solution really easy. This suggests to use the old trajectory initial input to iLQG algorithm"
   ]
  },
  {
   "cell_type": "code",
   "execution_count": null,
   "metadata": {
    "collapsed": true
   },
   "outputs": [],
   "source": [
    "import numpy as np\n",
    "from drl.ilqg import ilqg, LearnedDynamics\n",
    "from drl.env.arm import TwoLinkArm\n",
    "\n",
    "env = TwoLinkArm(g=0., wp=10., wv=1., wu=0.001)\n",
    "\n",
    "N = 5 # number of future steps for iLQG\n",
    "Nf = 2 # number of time-steps ahead and after current time-step for fitting linear model\n",
    "num_episodes = 25\n",
    "max_steps = 75\n",
    "\n",
    "full_state = True\n",
    "\n",
    "model = LearnedDynamics(max_steps, num_episodes, env.state_dim, env.action_dim, Nf)"
   ]
  },
  {
   "cell_type": "code",
   "execution_count": null,
   "metadata": {},
   "outputs": [
    {
     "name": "stdout",
     "output_type": "stream",
     "text": [
      "Iter 0, Steps 75, Reward: -1414.62, Average reward: -19.12\n",
      "Iter 1, Steps 75, Reward: -1343.52, Average reward: -17.91\n",
      "Iter 2, Steps 75, Reward: -1118.22, Average reward: -14.91\n",
      "Iter 3, Steps 75, Reward: -893.76, Average reward: -11.92\n",
      "Iter 4, Steps 75, Reward: -870.66, Average reward: -11.61\n",
      "Iter 5, Steps 75, Reward: -825.87, Average reward: -11.01\n",
      "Iter 6, Steps 75, Reward: -829.02, Average reward: -11.05\n",
      "Iter 7, Steps 75, Reward: -860.85, Average reward: -11.48\n",
      "Iter 8, Steps 75, Reward: -824.78, Average reward: -11.00\n",
      "Iter 9, Steps 75, Reward: -877.88, Average reward: -11.71\n",
      "Iter 10, Steps 75, Reward: -849.41, Average reward: -11.33\n",
      "Iter 11, Steps 75, Reward: -878.88, Average reward: -11.72\n",
      "Iter 12, Steps 75, Reward: -869.86, Average reward: -11.60\n",
      "Iter 13, Steps 75, Reward: -846.31, Average reward: -11.28\n",
      "Iter 14, Steps 75, Reward: -867.16, Average reward: -11.56\n",
      "Iter 15, Steps 75, Reward: -848.68, Average reward: -11.32\n",
      "Iter 16, Steps 75, Reward: -844.86, Average reward: -11.26\n",
      "Iter 17, Steps 75, Reward: -839.89, Average reward: -11.20\n",
      "Iter 18, Steps 75, Reward: -839.22, Average reward: -11.19\n",
      "Iter 19, Steps 75, Reward: -843.06, Average reward: -11.24\n",
      "Iter 20, Steps 75, Reward: -837.21, Average reward: -11.16\n"
     ]
    }
   ],
   "source": [
    "x = env.reset(full_state=full_state)\n",
    "x0 = env.q\n",
    "goal = env.goal\n",
    "\n",
    "# Initialize random control sequence\n",
    "u = np.random.randn(max_steps, env.action_dim)\n",
    "\n",
    "# Simulate system once\n",
    "reward = 0.\n",
    "for i_step in range(max_steps):\n",
    "    env.render()\n",
    "    \n",
    "    x_new, r, t, _ = env.step(u[i_step,:], full_state=full_state) \n",
    "    \n",
    "    model.add(0, i_step, x, u[i_step,:], x_new)\n",
    "    \n",
    "    x = x_new    \n",
    "    reward += r\n",
    "print('Iter %d, Steps %d, Reward: %.2f, Average reward: %.2f' % (0, i_step+1, reward, reward/i_step))\n",
    "\n",
    "# Only use first N control inputs for iLQG estimator\n",
    "u = u[:N,:]\n",
    "    \n",
    "for i_episode in range(1, num_episodes):\n",
    "    # Fit models\n",
    "    model.fit()\n",
    "    \n",
    "    x = env.reset(x0, goal, full_state=full_state)\n",
    "    terminal = False\n",
    "    i_step = 0\n",
    "    reward = 0.\n",
    "    \n",
    "    for i_step in range(max_steps):\n",
    "        env.render()\n",
    "        \n",
    "        model.set_cur_step(i_step)\n",
    "\n",
    "        _, u, L, Vx, Vxx, cost = ilqg(model.dynamics_func, env.cost_func, x, u, {})\n",
    "                \n",
    "        # Take step\n",
    "        x_new, r, t, _ = env.step(u[0, :], full_state=full_state)\n",
    "\n",
    "        # Add to data matrices\n",
    "        model.add(i_episode, i_step, x, u[0, :], x_new)\n",
    "        \n",
    "        u = np.concatenate((u[1:,:], np.random.randn(1, env.action_dim))) \n",
    "        \n",
    "        x = x_new\n",
    "        reward += r\n",
    "        i_step += 1\n",
    "        \n",
    "        if t:\n",
    "            break\n",
    "    \n",
    "    print('Iter %d, Steps %d, Reward: %.2f, Average reward: %.2f' % (i_episode, i_step, reward, reward/i_step))"
   ]
  },
  {
   "cell_type": "code",
   "execution_count": null,
   "metadata": {
    "collapsed": true
   },
   "outputs": [],
   "source": [
    "env.render(close=True)"
   ]
  }
 ],
 "metadata": {
  "kernelspec": {
   "display_name": "Environment (conda_drl)",
   "language": "python",
   "name": "conda_drl"
  },
  "language_info": {
   "codemirror_mode": {
    "name": "ipython",
    "version": 3
   },
   "file_extension": ".py",
   "mimetype": "text/x-python",
   "name": "python",
   "nbconvert_exporter": "python",
   "pygments_lexer": "ipython3",
   "version": "3.5.3"
  }
 },
 "nbformat": 4,
 "nbformat_minor": 2
}
